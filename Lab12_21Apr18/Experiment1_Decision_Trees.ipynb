{
 "cells": [
  {
   "cell_type": "code",
   "execution_count": 1,
   "metadata": {},
   "outputs": [],
   "source": [
    "import pandas as pd\n",
    "import numpy as np\n",
    "from collections import defaultdict\n",
    "import matplotlib.pyplot as plt\n",
    "from sklearn.linear_model import perceptron\n",
    "from sklearn.model_selection import train_test_split"
   ]
  },
  {
   "cell_type": "code",
   "execution_count": 2,
   "metadata": {},
   "outputs": [
    {
     "name": "stdout",
     "output_type": "stream",
     "text": [
      "+ + + + + + + + + + + + + + + + + + + + + + + + + + + + + + \n",
      "\n",
      "+ + + + + + + + + + + + + + + + + + + + + + + + + + + + + - \n",
      "\n",
      "+ + + + + + + + + + + + + + + + + + + + + + + + + + + + - - \n",
      "\n",
      "+ + + + + + + + + + + + + + + + + + + + + + + + + + + - - - \n",
      "\n",
      "+ + + + + + + + + + + + + + + + + + + + + + + + + + - - - \n",
      "\n",
      "+ + + + + + + + + + + + + + + + + + + + + + + + + - - \n",
      "\n",
      "+ + + + + + + + + + + + + + + + + + + + + + + + - - - \n",
      "\n",
      "+ + + + + + + + + + + + + + + + + + + + + + + - - \n",
      "\n",
      "+ + + + + + + + + + + + + + + + + + + + + + - \n",
      "\n",
      "+ + + + + + + + + + + + + + + + + + + + + - - - - - \n",
      "\n",
      "+ + + + + + + + + + + + + + + + + + + + - - - - \n",
      "\n",
      "+ + + + + + + + + + + + + + + + + + + - - - - \n",
      "\n",
      "+ + + + + + + + + + + + + + + + + + - - - - - - \n",
      "\n",
      "+ + + + + + + + + + + + + + + + + - - - - - \n",
      "\n",
      "+ + + + + + + + + + + + + + + + - - - - - - \n",
      "\n",
      "+ + + + + + + + + + + + + + + - - - - - - - - - \n",
      "\n",
      "+ + + + + + + + + + + + + + - - - - - - - - - - \n",
      "\n",
      "+ + + + + + + + + + + + + - - - - - - - - - - \n",
      "\n",
      "+ + + + + + + + + + + + - - - - - - - - - \n",
      "\n",
      "+ + + + + + + + + + + - - - - - - \n",
      "\n",
      "+ + + + + + + + + + - - - - - - - - \n",
      "\n",
      "+ + + + + + + + + - - - - - - - \n",
      "\n",
      "+ + + + + + + + - - - - - - - \n",
      "\n",
      "+ + + + + + + - - - - - - - - - - - \n",
      "\n",
      "+ + + + + + - - - - - - - - - - - - - - \n",
      "\n",
      "+ + + + + - - - - - - - - - - - - - \n",
      "\n",
      "+ + + + - - - - - - - - - - - - \n",
      "\n",
      "+ + + - - - - - - - - - - - - \n",
      "\n",
      "+ + - - - - - - - - - - - - \n",
      "\n",
      "+ - - - - - - - - - - - - - \n",
      "\n"
     ]
    }
   ],
   "source": [
    "### Create dataset for Decision Tree in the format given in the printout\n",
    "\n",
    "CUBE_SIZE = 30\n",
    "data = defaultdict(list)\n",
    "\n",
    "for i in range(CUBE_SIZE):\n",
    "    for j in range(CUBE_SIZE):\n",
    "        if j > CUBE_SIZE - i - 1:\n",
    "            if np.random.randint(0,2) == 1: # 50% chance\n",
    "                data[0].append([i, j + CUBE_SIZE]) \n",
    "                print('-', end=' ')\n",
    "            else:\n",
    "                continue\n",
    "        else:\n",
    "            print('+', end=' ')\n",
    "            data[1].append([i, j]) \n",
    "    print('\\n')\n",
    "        "
   ]
  },
  {
   "cell_type": "code",
   "execution_count": 3,
   "metadata": {},
   "outputs": [
    {
     "data": {
      "image/png": "[encoded data removed]",
      "text/plain": [
       "<matplotlib.figure.Figure at 0x7f88e042ac88>"
      ]
     },
     "metadata": {},
     "output_type": "display_data"
    }
   ],
   "source": [
    "plt.scatter([i for i, j in data[0]], [j for i, j in data[0]], c='r', alpha=0.5)\n",
    "plt.scatter([i for i, j in data[1]], [j for i, j in data[1]], c='g', alpha=0.5)\n",
    "plt.show()\n"
   ]
  },
  {
   "cell_type": "code",
   "execution_count": 19,
   "metadata": {},
   "outputs": [
    {
     "name": "stdout",
     "output_type": "stream",
     "text": [
      "[ 1 32]\n",
      "[29 59]\n",
      "[0 0]\n",
      "[29 29]\n"
     ]
    }
   ],
   "source": [
    "print(np.min(data[0], axis =0))\n",
    "print(np.max(data[0], axis =0))\n",
    "print(np.min(data[1], axis =0))\n",
    "print(np.max(data[1], axis =0))"
   ]
  },
  {
   "cell_type": "code",
   "execution_count": 21,
   "metadata": {},
   "outputs": [],
   "source": [
    "### Prepare train/test datasets\n",
    "\n",
    "X = data[0]\n",
    "y = list('0' * len(data[0]))\n",
    "X = X + data[1]\n",
    "y_p = list('1' * len(data[1]))\n",
    "y = y + y_p\n",
    "X_train, X_test, y_train, y_test = train_test_split(X, y, test_size=0.3, shuffle ='True')"
   ]
  },
  {
   "cell_type": "code",
   "execution_count": 24,
   "metadata": {},
   "outputs": [
    {
     "name": "stdout",
     "output_type": "stream",
     "text": [
      "['0', '1', '1', '1', '0', '1', '1', '1', '1', '1', '0', '0', '1', '0', '0', '1', '1', '1', '1', '1', '1', '0', '0', '1', '1', '1', '1', '1', '0', '0', '1', '1', '1', '1', '1', '1', '1', '1', '1', '1', '1', '0', '0', '1', '0', '1', '0', '0', '1', '0', '1', '0', '1', '1', '0', '0', '1', '1', '1', '1', '1', '0', '1', '1', '1', '1', '1', '0', '1', '1', '0', '0', '1', '1', '1', '1', '1', '1', '0', '1', '0', '1', '1', '1', '0', '0', '1', '0', '1', '1', '1', '1', '0', '1', '0', '1', '1', '1', '1', '0', '1', '1', '1', '0', '1', '0', '1', '0', '1', '0', '1', '1', '1', '1', '1', '1', '1', '1', '1', '1', '1', '1', '1', '1', '0', '0', '1', '1', '0', '0', '1', '0', '1', '0', '1', '1', '1', '1', '1', '1', '1', '1', '1', '1', '1', '0', '1', '0', '1', '1', '0', '1', '0', '1', '0', '1', '1', '1', '1', '0', '0', '1', '1', '0', '1', '1', '1', '1', '1', '1', '1', '1', '1', '0', '1', '1', '1', '1', '1', '1', '1', '1', '0', '1', '0', '0', '0', '1', '1', '1', '1', '0', '0', '0', '0', '1', '1', '1', '1', '0', '1', '1', '1', '1', '1', '0', '1', '1', '1', '0', '1', '1', '1', '1', '1', '1', '0', '1', '1', '0', '0', '1', '0', '1', '1', '0', '1', '0', '0', '0', '1', '1', '1', '0', '1', '1', '1', '1', '1', '0', '1', '1', '0', '1', '0', '1', '1', '1', '1', '0', '1', '1', '1', '0', '1', '1', '0', '1', '1', '1', '1', '1', '1', '1', '1', '1', '0', '1', '1', '1', '1', '0', '1', '1', '1', '0', '1', '1', '0', '1', '1', '1', '1', '1', '0', '0', '1', '1', '1', '1', '0', '1', '1', '1', '1', '0', '1', '1', '0', '0', '1', '1', '1', '1', '1', '1', '1', '0', '1', '1', '1', '0', '1', '1', '1', '0', '1', '1', '1', '0', '1', '0', '0', '1', '1', '1', '0', '1', '1', '0', '1', '1', '1', '0', '1', '1', '1', '1', '1', '0', '0', '1', '1', '1', '0', '1', '0', '1', '1', '1', '0', '1', '1', '1', '1', '1', '1', '0', '1', '1', '1', '1', '1', '1', '1', '1', '1', '0', '1', '1', '1', '1', '0', '1', '0', '1', '1', '1', '0', '0', '1', '1', '1', '1', '1', '0', '1', '1', '1', '0', '0', '1', '1', '1', '0', '1', '1', '1', '1', '1', '0', '1', '0', '1', '0', '1', '1', '1', '0', '0', '1', '1', '0', '1', '1', '1', '0', '1', '0', '1', '0', '0', '1', '0', '1', '1', '0', '0', '0', '1', '1', '0', '1', '0', '1', '1', '1', '1', '0', '0', '0', '1', '1', '0', '0', '1', '0', '0', '1', '1', '1', '0', '0', '1', '0', '0', '1', '0', '1', '0', '0', '1', '1', '0', '1']\n"
     ]
    },
    {
     "data": {
      "text/plain": [
       "(665, None)"
      ]
     },
     "execution_count": 24,
     "metadata": {},
     "output_type": "execute_result"
    }
   ],
   "source": [
    "len(X), print(y_train)"
   ]
  },
  {
   "cell_type": "code",
   "execution_count": 26,
   "metadata": {},
   "outputs": [
    {
     "name": "stderr",
     "output_type": "stream",
     "text": [
      "/usr/local/lib/python3.5/dist-packages/sklearn/linear_model/stochastic_gradient.py:117: DeprecationWarning: n_iter parameter is deprecated in 0.19 and will be removed in 0.21. Use max_iter and tol instead.\n",
      "  DeprecationWarning)\n"
     ]
    },
    {
     "data": {
      "text/plain": [
       "Perceptron(alpha=0.0001, class_weight=None, eta0=0.002, fit_intercept=True,\n",
       "      max_iter=None, n_iter=1, n_jobs=1, penalty=None, random_state=None,\n",
       "      shuffle=True, tol=None, verbose=0, warm_start=False)"
      ]
     },
     "execution_count": 26,
     "metadata": {},
     "output_type": "execute_result"
    }
   ],
   "source": [
    "clf = perceptron.Perceptron(n_iter=1, verbose=0, random_state=None, fit_intercept=True, eta0=0.002)\n",
    "clf.fit(X_train, y_train)"
   ]
  },
  {
   "cell_type": "code",
   "execution_count": 27,
   "metadata": {},
   "outputs": [
    {
     "data": {
      "text/plain": [
       "0.865"
      ]
     },
     "execution_count": 27,
     "metadata": {},
     "output_type": "execute_result"
    }
   ],
   "source": [
    "clf.predict(X_test)\n",
    "clf.score(X_test, y_test)"
   ]
  },
  {
   "cell_type": "code",
   "execution_count": 28,
   "metadata": {},
   "outputs": [
    {
     "data": {
      "text/plain": [
       "(array([[ 0.028, -0.022]]), array([0.202]))"
      ]
     },
     "execution_count": 28,
     "metadata": {},
     "output_type": "execute_result"
    }
   ],
   "source": [
    "clf.coef_, clf.intercept_"
   ]
  },
  {
   "cell_type": "code",
   "execution_count": 29,
   "metadata": {},
   "outputs": [
    {
     "data": {
      "image/png": "[encoded data removed]",
      "text/plain": [
       "<matplotlib.figure.Figure at 0x7f88de3ce8d0>"
      ]
     },
     "metadata": {},
     "output_type": "display_data"
    }
   ],
   "source": [
    "plt.scatter([i for i, j in data[0]], [j for i, j in data[0]], c='r', alpha=0.5)\n",
    "plt.scatter([i for i, j in data[1]], [j for i, j in data[1]], c='g', alpha=0.5)\n",
    "\n",
    "w = clf.coef_[0]\n",
    "a = -w[0] / w[1]\n",
    "\n",
    "xx = np.linspace(0, CUBE_SIZE*2) # since '-' is not compact but sparse\n",
    "yy = a * xx - (clf.intercept_[0]) / w[1]\n",
    "plt.plot(yy,xx, 'k-')\n",
    "plt.show()"
   ]
  },
  {
   "cell_type": "code",
   "execution_count": 31,
   "metadata": {},
   "outputs": [
    {
     "name": "stdout",
     "output_type": "stream",
     "text": [
      "1.0\n"
     ]
    }
   ],
   "source": [
    "### Part 3\n",
    "\n",
    "from sklearn import tree\n",
    "clf_dt = tree.DecisionTreeClassifier()\n",
    "clf_dt.fit(X_train, y_train)\n",
    "Z = clf_dt.predict(X_test)\n",
    "print(clf_dt.score(X_test, y_test))"
   ]
  },
  {
   "cell_type": "code",
   "execution_count": 47,
   "metadata": {},
   "outputs": [
    {
     "name": "stdout",
     "output_type": "stream",
     "text": [
      "['1', '1', '1', '1', '1', '1', '1', '1', '1', '1', '1', '1', '1', '0', '1', '0', '1', '0', '1', '1', '1', '1', '0', '1', '1', '1', '0', '1', '0', '0', '0', '1', '1', '1', '0', '1', '0', '1', '0', '1', '1', '1', '1', '0', '1', '0', '0', '1', '1', '1', '0', '0', '1', '1', '1', '1', '1', '1', '0', '0', '0', '0', '1', '1', '1', '0', '1', '1', '0', '0', '0', '1', '1', '1', '1', '0', '0', '0', '0', '0', '0', '1', '1', '0', '1', '1', '0', '1', '0', '1', '1', '1', '1', '1', '1', '0', '1', '1', '1', '1', '0', '1', '0', '1', '1', '0', '1', '0', '1', '1', '1', '1', '1', '0', '1', '0', '0', '0', '0', '1', '1', '0', '1', '1', '0', '1', '1', '0', '0', '1', '0', '1', '1', '1', '1', '1', '1', '1', '1', '1', '1', '1', '1', '1', '1', '0', '1', '1', '1', '0', '1', '1', '1', '1', '1', '0', '1', '1', '1', '1', '0', '1', '1', '1', '1', '1', '0', '0', '1', '0', '1', '1', '1', '0', '1', '1', '1', '0', '1', '1', '1', '1', '1', '0', '1', '1', '1', '1', '1', '1', '0', '1', '1', '1', '1', '1', '1', '1', '1', '1'] ['1' '1' '1' '1' '1' '1' '1' '1' '1' '1' '1' '1' '1' '0' '1' '0' '1' '0'\n",
      " '1' '1' '1' '1' '0' '1' '1' '1' '0' '1' '0' '0' '0' '1' '1' '1' '0' '1'\n",
      " '0' '1' '0' '1' '1' '1' '1' '0' '1' '0' '0' '1' '1' '1' '0' '0' '1' '1'\n",
      " '1' '1' '1' '1' '0' '0' '0' '0' '1' '1' '1' '0' '1' '1' '0' '0' '0' '1'\n",
      " '1' '1' '1' '0' '0' '0' '0' '0' '0' '1' '1' '0' '1' '1' '0' '1' '0' '1'\n",
      " '1' '1' '1' '1' '1' '0' '1' '1' '1' '1' '0' '1' '0' '1' '1' '0' '1' '0'\n",
      " '1' '1' '1' '1' '1' '0' '1' '0' '0' '0' '0' '1' '1' '0' '1' '1' '0' '1'\n",
      " '1' '0' '0' '1' '0' '1' '1' '1' '1' '1' '1' '1' '1' '1' '1' '1' '1' '1'\n",
      " '1' '0' '1' '1' '1' '0' '1' '1' '1' '1' '1' '0' '1' '1' '1' '1' '0' '1'\n",
      " '1' '1' '1' '1' '0' '0' '1' '0' '1' '1' '1' '0' '1' '1' '1' '0' '1' '1'\n",
      " '1' '1' '1' '0' '1' '1' '1' '1' '1' '1' '0' '1' '1' '1' '1' '1' '1' '1'\n",
      " '1' '1']\n"
     ]
    }
   ],
   "source": [
    "print(y_test, Z)"
   ]
  },
  {
   "cell_type": "code",
   "execution_count": 35,
   "metadata": {
    "scrolled": true
   },
   "outputs": [
    {
     "data": {
      "image/png": "[encoded data removed]",
      "text/plain": [
       "<matplotlib.figure.Figure at 0x7f88dd741438>"
      ]
     },
     "metadata": {},
     "output_type": "display_data"
    }
   ],
   "source": [
    "plt.scatter([i for i, j in data[0]], [j for i, j in data[0]], c='r')\n",
    "plt.scatter([i for i, j in data[1]], [j for i, j in data[1]], c='g', alpha=0.5)\n",
    "\n",
    "pos =[]\n",
    "neg=[]\n",
    "\n",
    "for i in range(int(CUBE_SIZE*2)):\n",
    "    for j in range(int(CUBE_SIZE*2)):\n",
    "        l = clf_dt.predict([[i,j]])\n",
    "        if l[0] == '0':\n",
    "            neg.append([i, j])\n",
    "        else:\n",
    "            pos.append([i, j])\n",
    "\n",
    "plt.scatter([i for i, _ in pos], [j for _, j in pos], c='y', alpha=1)\n",
    "plt.scatter([i for i, _ in neg], [j for _, j in neg], c='k', alpha=1)\n",
    "\n",
    "plt.show()"
   ]
  },
  {
   "cell_type": "code",
   "execution_count": 43,
   "metadata": {},
   "outputs": [
    {
     "name": "stdout",
     "output_type": "stream",
     "text": [
      "(200, 2)\n"
     ]
    }
   ],
   "source": [
    "print(np.array(X_test).shape)\n",
    "X_test= np.array(X_test)"
   ]
  },
  {
   "cell_type": "code",
   "execution_count": 44,
   "metadata": {},
   "outputs": [
    {
     "data": {
      "text/plain": [
       "array([ 2,  4, 10, 12, 10, 12, 11, 18,  8,  0,  2,  6,  9, 10,  6, 29,  9,\n",
       "       15, 12, 13,  2,  3, 24,  2, 10,  6, 26,  0, 17,  5, 21, 11,  3,  3,\n",
       "       24,  5, 16, 17, 15,  7,  2,  8, 22, 24,  8, 17, 27,  1, 17, 15, 18,\n",
       "        4,  3,  4,  4,  4,  9,  0, 16, 14,  9, 25, 10,  8, 12, 25, 11, 22,\n",
       "       29, 26, 12,  5, 19,  2, 19, 23,  5, 29, 18, 13, 25, 19,  3, 19,  7,\n",
       "       13, 12,  2, 19,  2,  5, 15, 29, 15, 18, 11,  2, 17,  0, 13, 28,  2,\n",
       "       22,  9,  6,  6, 16, 23, 21,  1, 15,  0,  6, 24, 24, 15, 27, 14, 27,\n",
       "        7, 20, 20, 12, 15, 25,  7, 14, 29,  3,  9, 20, 11,  9,  2,  8, 12,\n",
       "       27,  1,  5,  7, 21, 20, 11,  6, 19,  6, 13,  0,  4, 29,  9, 10, 14,\n",
       "        8, 14, 17,  9,  0, 14, 15, 16, 22, 10,  5, 26, 17, 28, 15,  7, 19,\n",
       "        3, 27, 21, 20, 16, 19,  0, 13,  3,  7, 25,  4,  7, 28,  8,  5,  3,\n",
       "       25,  0, 11,  3, 17,  6, 21,  7, 18,  3,  4, 22, 11])"
      ]
     },
     "execution_count": 44,
     "metadata": {},
     "output_type": "execute_result"
    }
   ],
   "source": [
    "X_test[:,0]"
   ]
  },
  {
   "cell_type": "code",
   "execution_count": 50,
   "metadata": {},
   "outputs": [
    {
     "data": {
      "text/plain": [
       "<matplotlib.collections.PathCollection at 0x7f88dd78aa90>"
      ]
     },
     "execution_count": 50,
     "metadata": {},
     "output_type": "execute_result"
    },
    {
     "data": {
      "image/png": "[encoded data removed]",
      "text/plain": [
       "<matplotlib.figure.Figure at 0x7f88dd66a400>"
      ]
     },
     "metadata": {},
     "output_type": "display_data"
    }
   ],
   "source": [
    "\n",
    "plt.scatter(X_test[:,0], X_test[:,1], label = y_test)"
   ]
  },
  {
   "cell_type": "code",
   "execution_count": 49,
   "metadata": {},
   "outputs": [
    {
     "data": {
      "text/plain": [
       "<matplotlib.collections.PathCollection at 0x7f88dd720978>"
      ]
     },
     "execution_count": 49,
     "metadata": {},
     "output_type": "execute_result"
    },
    {
     "data": {
      "image/png": "[encoded data removed]",
      "text/plain": [
       "<matplotlib.figure.Figure at 0x7f88dd642be0>"
      ]
     },
     "metadata": {},
     "output_type": "display_data"
    }
   ],
   "source": [
    "\n",
    "plt.scatter(X_test[:,0], X_test[:,1], label = Z)"
   ]
  },
  {
   "cell_type": "code",
   "execution_count": 69,
   "metadata": {},
   "outputs": [
    {
     "name": "stdout",
     "output_type": "stream",
     "text": [
      "True\n"
     ]
    }
   ],
   "source": [
    "print(Z[13]=='0')"
   ]
  },
  {
   "cell_type": "code",
   "execution_count": 75,
   "metadata": {},
   "outputs": [
    {
     "data": {
      "image/png": "[encoded data removed]",
      "text/plain": [
       "<matplotlib.figure.Figure at 0x7f88dd32f080>"
      ]
     },
     "metadata": {},
     "output_type": "display_data"
    }
   ],
   "source": [
    "for i in range(len(Z)):\n",
    "    if(Z[i]=='0'):\n",
    "        #print(i)\n",
    "        plt.plot(X_test[i,0], X_test[i,1], 'ro')\n",
    "    else:\n",
    "        plt.plot(X_test[i,0], X_test[i,1], 'go')"
   ]
  },
  {
   "cell_type": "code",
   "execution_count": 13,
   "metadata": {},
   "outputs": [
    {
     "name": "stdout",
     "output_type": "stream",
     "text": [
      "1.0\n"
     ]
    },
    {
     "data": {
      "image/png": "[encoded data removed]",
      "text/plain": [
       "<matplotlib.figure.Figure at 0x7f88de3feb00>"
      ]
     },
     "metadata": {},
     "output_type": "display_data"
    }
   ],
   "source": [
    "from sklearn import tree\n",
    "clf_dt = tree.DecisionTreeClassifier(criterion='entropy', max_depth=1)\n",
    "clf_dt.fit(X_train, y_train)\n",
    "Z = clf_dt.predict(X_test)\n",
    "print(clf_dt.score(X_test, y_test))\n",
    "\n",
    "plt.scatter([i for i, j in data[0]], [j for i, j in data[0]], c='r', alpha=0.5)\n",
    "plt.scatter([i for i, j in data[1]], [j for i, j in data[1]], c='g', alpha=0.5)\n",
    "\n",
    "pos =[]\n",
    "neg=[]\n",
    "\n",
    "for i in range(int(CUBE_SIZE*2)):\n",
    "    for j in range(int(CUBE_SIZE*2)):\n",
    "        l = clf_dt.predict([[i,j]])\n",
    "        if l[0] == '0':\n",
    "            neg.append([i, j])\n",
    "        else:\n",
    "            pos.append([i, j])\n",
    "\n",
    "plt.scatter([i for i, _ in pos], [j for _, j in pos], c='y', alpha=0.5)\n",
    "plt.scatter([i for i, _ in neg], [j for _, j in neg], c='k', alpha=0.5)\n",
    "\n",
    "plt.show()"
   ]
  },
  {
   "cell_type": "code",
   "execution_count": 79,
   "metadata": {},
   "outputs": [],
   "source": [
    "X_train= np.array(X_train)"
   ]
  },
  {
   "cell_type": "code",
   "execution_count": 84,
   "metadata": {},
   "outputs": [
    {
     "name": "stdout",
     "output_type": "stream",
     "text": [
      "0.9526881720430107\n",
      "['0' '1' '1' '1' '0' '1' '1' '1' '1' '1' '0' '0' '1' '1' '0' '1' '1' '1'\n",
      " '1' '1' '1' '0' '0' '1' '1' '1' '1' '1' '0' '0' '1' '1' '1' '1' '1' '1'\n",
      " '1' '1' '1' '1' '1' '0' '1' '1' '0' '1' '1' '0' '1' '0' '1' '0' '1' '1'\n",
      " '1' '0' '1' '1' '1' '1' '1' '0' '1' '1' '1' '1' '1' '1' '1' '1' '0' '0'\n",
      " '1' '1' '1' '1' '1' '1' '1' '1' '1' '1' '1' '1' '0' '0' '1' '0' '1' '1'\n",
      " '1' '1' '0' '1' '0' '1' '1' '1' '1' '0' '1' '1' '1' '0' '1' '0' '1' '0'\n",
      " '1' '0' '1' '1' '1' '1' '1' '1' '1' '1' '1' '1' '1' '1' '1' '1' '0' '0'\n",
      " '1' '1' '0' '1' '1' '0' '1' '0' '1' '1' '1' '1' '1' '1' '1' '1' '1' '1'\n",
      " '1' '1' '1' '0' '1' '1' '0' '1' '0' '1' '0' '1' '1' '1' '1' '1' '0' '1'\n",
      " '1' '0' '1' '1' '1' '1' '1' '1' '1' '1' '1' '0' '1' '1' '1' '1' '1' '1'\n",
      " '1' '1' '0' '1' '0' '0' '0' '1' '1' '1' '1' '0' '0' '0' '1' '1' '1' '1'\n",
      " '1' '0' '1' '1' '1' '1' '1' '0' '1' '1' '1' '1' '1' '1' '1' '1' '1' '1'\n",
      " '0' '1' '1' '0' '0' '1' '0' '1' '1' '0' '1' '0' '1' '0' '1' '1' '1' '0'\n",
      " '1' '1' '1' '1' '1' '0' '1' '1' '0' '1' '0' '1' '1' '1' '1' '0' '1' '1'\n",
      " '1' '0' '1' '1' '0' '1' '1' '1' '1' '1' '1' '1' '1' '1' '0' '1' '1' '1'\n",
      " '1' '0' '1' '1' '1' '0' '1' '1' '0' '1' '1' '1' '1' '1' '0' '0' '1' '1'\n",
      " '1' '1' '0' '1' '1' '1' '1' '1' '1' '1' '0' '0' '1' '1' '1' '1' '1' '1'\n",
      " '1' '0' '1' '1' '1' '1' '1' '1' '1' '0' '1' '1' '1' '0' '1' '1' '0' '1'\n",
      " '1' '1' '0' '1' '1' '1' '1' '1' '1' '0' '1' '1' '1' '1' '1' '0' '1' '1'\n",
      " '1' '1' '0' '1' '0' '1' '1' '1' '0' '1' '1' '1' '1' '1' '1' '0' '1' '1'\n",
      " '1' '1' '1' '1' '1' '1' '1' '0' '1' '1' '1' '1' '0' '1' '0' '1' '1' '1'\n",
      " '0' '0' '1' '1' '1' '1' '1' '0' '1' '1' '1' '0' '0' '1' '1' '1' '0' '1'\n",
      " '1' '1' '1' '1' '1' '1' '0' '1' '0' '1' '1' '1' '0' '0' '1' '1' '0' '1'\n",
      " '1' '1' '1' '1' '0' '1' '0' '0' '1' '0' '1' '1' '0' '0' '0' '1' '1' '0'\n",
      " '1' '0' '1' '1' '1' '1' '0' '0' '0' '1' '1' '0' '0' '1' '0' '0' '1' '1'\n",
      " '1' '0' '1' '1' '1' '0' '1' '0' '1' '0' '0' '1' '1' '0' '1']\n"
     ]
    },
    {
     "data": {
      "image/png": "[encoded data removed]",
      "text/plain": [
       "<matplotlib.figure.Figure at 0x7f88dd107fd0>"
      ]
     },
     "metadata": {},
     "output_type": "display_data"
    }
   ],
   "source": [
    "from sklearn import tree\n",
    "clf_dt = tree.DecisionTreeClassifier(criterion='gini', max_depth=1)\n",
    "clf_dt.fit(X_test[:20], y_test[:20])\n",
    "Z = clf_dt.predict(X_train)\n",
    "print(clf_dt.score(X_train, y_train))\n",
    "print(Z)\n",
    "for i in range(len(Z)):\n",
    "    if(Z[i]=='0'):\n",
    "        #print(i)\n",
    "        plt.plot(X_train[i,0], X_train[i,1], 'ro')\n",
    "    else:\n",
    "        plt.plot(X_train[i,0], X_train[i,1], 'go')"
   ]
  },
  {
   "cell_type": "code",
   "execution_count": null,
   "metadata": {},
   "outputs": [],
   "source": []
  }
 ],
 "metadata": {
  "kernelspec": {
   "display_name": "Python 3",
   "language": "python",
   "name": "python3"
  },
  "language_info": {
   "codemirror_mode": {
    "name": "ipython",
    "version": 3
   },
   "file_extension": ".py",
   "mimetype": "text/x-python",
   "name": "python",
   "nbconvert_exporter": "python",
   "pygments_lexer": "ipython3",
   "version": "3.5.2"
  }
 },
 "nbformat": 4,
 "nbformat_minor": 2
}
