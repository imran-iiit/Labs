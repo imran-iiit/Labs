{
 "cells": [
  {
   "cell_type": "markdown",
   "metadata": {},
   "source": [
    "# Foundations of AI & ML\n",
    "## Session 05\n",
    "### HomeWork\n",
    "### Lab\n",
    "\n",
    "**Objectives:** Using the training data estimate the regression coefficients using maximum likelihood.\n",
    "Refer http://www.machinegurning.com/rstats/logreg_math/ for detailed Problem Description.\n",
    "\n",
    "**DataSet Description** This data approach student achievement in secondary education of two Portuguese schools. The data attributes include student grades, demographic, social and school related features) and it was collected by using school reports and questionnaires. We are going to work on the Maths DataSet.\n",
    "\n",
    "**Attribute Information**\n",
    "\n",
    "1 school - student's school (binary: 'GP' - Gabriel Pereira or 'MS' - Mousinho da Silveira) \n",
    "\n",
    "2 sex - student's sex (binary: 'F' - female or 'M' - male) \n",
    "\n",
    "3 age - student's age (numeric: from 15 to 22) \n",
    "\n",
    "4 address - student's home address type (binary: 'U' - urban or 'R' - rural) \n",
    "\n",
    "5 famsize - family size (binary: 'LE3' - less or equal to 3 or 'GT3' - greater than 3) \n",
    "\n",
    "6 Pstatus - parent's cohabitation status (binary: 'T' - living together or 'A' - apart) \n",
    "\n",
    "7 Medu - mother's education (numeric: 0 - none, 1 - primary education (4th grade), 2 â€“ 5th to 9th grade, 3 â€“ secondary education or 4 â€“ higher education) \n",
    "\n",
    "8 Fedu - father's education (numeric: 0 - none, 1 - primary education (4th grade), 2 â€“ 5th to 9th grade, 3 â€“ secondary education or 4 â€“ higher education) \n",
    "\n",
    "9 Mjob - mother's job (nominal: 'teacher', 'health' care related, civil 'services' (e.g. administrative or police), 'at_home' or 'other') \n",
    "\n",
    "10 Fjob - father's job (nominal: 'teacher', 'health' care related, civil 'services' (e.g. administrative or police), 'at_home' or 'other') \n",
    "\n",
    "11 reason - reason to choose this school (nominal: close to 'home', school 'reputation', 'course' preference or 'other') \n",
    "\n",
    "12 guardian - student's guardian (nominal: 'mother', 'father' or 'other') \n",
    "\n",
    "13 traveltime - home to school travel time (numeric: 1 - <15 min., 2 - 15 to 30 min., 3 - 30 min. to 1 hour, or 4 - >1 hour) \n",
    "\n",
    "14 studytime - weekly study time (numeric: 1 - <2 hours, 2 - 2 to 5 hours, 3 - 5 to 10 hours, or 4 - >10 hours)\n",
    "\n",
    "15 failures - number of past class failures (numeric: n if 1<=n<3, else 4) \n",
    "\n",
    "16 schoolsup - extra educational support (binary: yes or no) \n",
    "\n",
    "17 famsup - family educational support (binary: yes or no) \n",
    "\n",
    "18 paid - extra paid classes within the course subject (Math) (binary: yes or no) \n",
    "\n",
    "19 activities - extra-curricular activities (binary: yes or no) \n",
    "\n",
    "20 nursery - attended nursery school (binary: yes or no) \n",
    "\n",
    "21 higher - wants to take higher education (binary: yes or no) \n",
    "\n",
    "22 internet - Internet access at home (binary: yes or no) \n",
    "\n",
    "23 romantic - with a romantic relationship (binary: yes or no) \n",
    "\n",
    "24 famrel - quality of family relationships (numeric: from 1 - very bad to 5 - excellent) \n",
    "\n",
    "25 freetime - free time after school (numeric: from 1 - very low to 5 - very high) \n",
    "\n",
    "26 goout - going out with friends (numeric: from 1 - very low to 5 - very high) \n",
    "\n",
    "27 Dalc - workday alcohol consumption (numeric: from 1 - very low to 5 - very high) \n",
    "\n",
    "28 Walc - weekend alcohol consumption (numeric: from 1 - very low to 5 - very high) \n",
    "\n",
    "29 health - current health status (numeric: from 1 - very bad to 5 - very good) \n",
    "\n",
    "30 absences - number of school absences (numeric: from 0 to 93) \n",
    "\n",
    "31 G1 - first period grade (numeric: from 0 to 20) \n",
    "\n",
    "32 G2 - second period grade (numeric: from 0 to 20) \n",
    "\n",
    "32 G3 - final grade (numeric: from 0 to 20, output target)"
   ]
  },
  {
   "cell_type": "code",
   "execution_count": 1,
   "metadata": {},
   "outputs": [],
   "source": [
    "import pandas as pd"
   ]
  },
  {
   "cell_type": "code",
   "execution_count": 3,
   "metadata": {},
   "outputs": [],
   "source": [
    "def convert(s):\n",
    "    value = s.strip().lower()\n",
    "    if value in [\"gp\", \"f\", \"u\", \"gt3\",\"a\",\"mother\",\"yes\",\"at_home\",\"pass\"]:\n",
    "        return 1\n",
    "    if value in [\"ms\", \"m\", \"r\", \"le3\",\"t\",\"father\",\"no\",\"services\",\"fail\"]:\n",
    "        return 0\n",
    "    if value in [\"health\",\"course\"]:\n",
    "        return 2\n",
    "    if value in [\"teacher\",\"reputation\"]:\n",
    "        return 3\n",
    "    return -1\n",
    "\n",
    "data = pd.read_csv(\"../Datasets/newstudentdata.csv\",converters={'school':convert, 'sex':convert, 'address':convert, 'famsize':convert, 'Pstatus':convert,\n",
    "       'Mjob':convert, 'Fjob':convert, 'reason':convert, 'guardian':convert,\n",
    "       'schoolsup':convert, 'famsup':convert, 'paid':convert, 'activities':convert,\n",
    "       'nursery':convert, 'higher':convert, 'internet':convert, 'romantic':convert,'grade':convert})"
   ]
  },
  {
   "cell_type": "code",
   "execution_count": 4,
   "metadata": {},
   "outputs": [
    {
     "data": {
      "text/html": [
       "<div>\n",
       "<style scoped>\n",
       "    .dataframe tbody tr th:only-of-type {\n",
       "        vertical-align: middle;\n",
       "    }\n",
       "\n",
       "    .dataframe tbody tr th {\n",
       "        vertical-align: top;\n",
       "    }\n",
       "\n",
       "    .dataframe thead th {\n",
       "        text-align: right;\n",
       "    }\n",
       "</style>\n",
       "<table border=\"1\" class=\"dataframe\">\n",
       "  <thead>\n",
       "    <tr style=\"text-align: right;\">\n",
       "      <th></th>\n",
       "      <th>Unnamed: 0</th>\n",
       "      <th>school</th>\n",
       "      <th>sex</th>\n",
       "      <th>age</th>\n",
       "      <th>address</th>\n",
       "      <th>famsize</th>\n",
       "      <th>Pstatus</th>\n",
       "      <th>Medu</th>\n",
       "      <th>Fedu</th>\n",
       "      <th>Mjob</th>\n",
       "      <th>...</th>\n",
       "      <th>higher</th>\n",
       "      <th>internet</th>\n",
       "      <th>romantic</th>\n",
       "      <th>famrel</th>\n",
       "      <th>freetime</th>\n",
       "      <th>goout</th>\n",
       "      <th>Dalc</th>\n",
       "      <th>Walc</th>\n",
       "      <th>health</th>\n",
       "      <th>grade</th>\n",
       "    </tr>\n",
       "  </thead>\n",
       "  <tbody>\n",
       "    <tr>\n",
       "      <th>0</th>\n",
       "      <td>0</td>\n",
       "      <td>1</td>\n",
       "      <td>1</td>\n",
       "      <td>18</td>\n",
       "      <td>1</td>\n",
       "      <td>1</td>\n",
       "      <td>1</td>\n",
       "      <td>4</td>\n",
       "      <td>4</td>\n",
       "      <td>1</td>\n",
       "      <td>...</td>\n",
       "      <td>1</td>\n",
       "      <td>0</td>\n",
       "      <td>0</td>\n",
       "      <td>4</td>\n",
       "      <td>3</td>\n",
       "      <td>4</td>\n",
       "      <td>1</td>\n",
       "      <td>1</td>\n",
       "      <td>3</td>\n",
       "      <td>0</td>\n",
       "    </tr>\n",
       "    <tr>\n",
       "      <th>1</th>\n",
       "      <td>1</td>\n",
       "      <td>1</td>\n",
       "      <td>1</td>\n",
       "      <td>17</td>\n",
       "      <td>1</td>\n",
       "      <td>1</td>\n",
       "      <td>0</td>\n",
       "      <td>1</td>\n",
       "      <td>1</td>\n",
       "      <td>1</td>\n",
       "      <td>...</td>\n",
       "      <td>1</td>\n",
       "      <td>1</td>\n",
       "      <td>0</td>\n",
       "      <td>5</td>\n",
       "      <td>3</td>\n",
       "      <td>3</td>\n",
       "      <td>1</td>\n",
       "      <td>1</td>\n",
       "      <td>3</td>\n",
       "      <td>0</td>\n",
       "    </tr>\n",
       "    <tr>\n",
       "      <th>2</th>\n",
       "      <td>2</td>\n",
       "      <td>1</td>\n",
       "      <td>1</td>\n",
       "      <td>15</td>\n",
       "      <td>1</td>\n",
       "      <td>0</td>\n",
       "      <td>0</td>\n",
       "      <td>1</td>\n",
       "      <td>1</td>\n",
       "      <td>1</td>\n",
       "      <td>...</td>\n",
       "      <td>1</td>\n",
       "      <td>1</td>\n",
       "      <td>0</td>\n",
       "      <td>4</td>\n",
       "      <td>3</td>\n",
       "      <td>2</td>\n",
       "      <td>2</td>\n",
       "      <td>3</td>\n",
       "      <td>3</td>\n",
       "      <td>0</td>\n",
       "    </tr>\n",
       "    <tr>\n",
       "      <th>3</th>\n",
       "      <td>3</td>\n",
       "      <td>1</td>\n",
       "      <td>1</td>\n",
       "      <td>15</td>\n",
       "      <td>1</td>\n",
       "      <td>1</td>\n",
       "      <td>0</td>\n",
       "      <td>4</td>\n",
       "      <td>2</td>\n",
       "      <td>2</td>\n",
       "      <td>...</td>\n",
       "      <td>1</td>\n",
       "      <td>1</td>\n",
       "      <td>1</td>\n",
       "      <td>3</td>\n",
       "      <td>2</td>\n",
       "      <td>2</td>\n",
       "      <td>1</td>\n",
       "      <td>1</td>\n",
       "      <td>5</td>\n",
       "      <td>1</td>\n",
       "    </tr>\n",
       "    <tr>\n",
       "      <th>4</th>\n",
       "      <td>4</td>\n",
       "      <td>1</td>\n",
       "      <td>1</td>\n",
       "      <td>16</td>\n",
       "      <td>1</td>\n",
       "      <td>1</td>\n",
       "      <td>0</td>\n",
       "      <td>3</td>\n",
       "      <td>3</td>\n",
       "      <td>-1</td>\n",
       "      <td>...</td>\n",
       "      <td>1</td>\n",
       "      <td>0</td>\n",
       "      <td>0</td>\n",
       "      <td>4</td>\n",
       "      <td>3</td>\n",
       "      <td>2</td>\n",
       "      <td>1</td>\n",
       "      <td>2</td>\n",
       "      <td>5</td>\n",
       "      <td>0</td>\n",
       "    </tr>\n",
       "  </tbody>\n",
       "</table>\n",
       "<p>5 rows × 31 columns</p>\n",
       "</div>"
      ],
      "text/plain": [
       "   Unnamed: 0  school  sex  age  address  famsize  Pstatus  Medu  Fedu  Mjob  \\\n",
       "0           0       1    1   18        1        1        1     4     4     1   \n",
       "1           1       1    1   17        1        1        0     1     1     1   \n",
       "2           2       1    1   15        1        0        0     1     1     1   \n",
       "3           3       1    1   15        1        1        0     4     2     2   \n",
       "4           4       1    1   16        1        1        0     3     3    -1   \n",
       "\n",
       "   ...    higher  internet  romantic  famrel  freetime  goout  Dalc  Walc  \\\n",
       "0  ...         1         0         0       4         3      4     1     1   \n",
       "1  ...         1         1         0       5         3      3     1     1   \n",
       "2  ...         1         1         0       4         3      2     2     3   \n",
       "3  ...         1         1         1       3         2      2     1     1   \n",
       "4  ...         1         0         0       4         3      2     1     2   \n",
       "\n",
       "   health  grade  \n",
       "0       3      0  \n",
       "1       3      0  \n",
       "2       3      0  \n",
       "3       5      1  \n",
       "4       5      0  \n",
       "\n",
       "[5 rows x 31 columns]"
      ]
     },
     "execution_count": 4,
     "metadata": {},
     "output_type": "execute_result"
    }
   ],
   "source": [
    "data.head()"
   ]
  },
  {
   "cell_type": "markdown",
   "metadata": {},
   "source": [
    "split into training and test"
   ]
  },
  {
   "cell_type": "code",
   "execution_count": 5,
   "metadata": {},
   "outputs": [
    {
     "name": "stdout",
     "output_type": "stream",
     "text": [
      "29\n",
      "(335, 29) (335, 1)\n",
      "[ 1  1 18  1  1  1  4  4  1  3  2  1  2  2  0  1  0  0  0  1  1  0  0  4\n",
      "  3  4  1  1  3]\n",
      "[0]\n"
     ]
    }
   ],
   "source": [
    "import numpy as np\n",
    "import random\n",
    "TRAIN_TEST_RATIO = 0.85\n",
    "picker = list(range(data.shape[0]))\n",
    "# random.shuffle(picker)       ### randomly shuffle the data\n",
    "trainMax = int(len(picker) * TRAIN_TEST_RATIO)\n",
    "train_data = []\n",
    "test_data = []\n",
    "train_labels = []\n",
    "test_labels = []\n",
    "for pick in picker[:trainMax]:\n",
    "    train_data.append(list(data.values[pick][1:-1]))         ### select 80% of data to be used as training set\n",
    "    train_labels.append((data.values[pick][-1]))\n",
    "for pick in picker[trainMax:]:\n",
    "    test_data.append(list(data.values[pick][1:-1]))       ### select 20% of data to be used as test set\n",
    "    test_labels.append((data.values[pick][-1]))\n",
    "num_feat = len(train_data[0])    ## number of features to train\n",
    "\n",
    "train_data=np.array(train_data)\n",
    "train_labels=np.array(train_labels)\n",
    "train_labels = np.reshape(train_labels,(train_data.shape[0],1))\n",
    "test_data=np.array(test_data)\n",
    "test_labels=np.array(test_labels)\n",
    "test_labels=np.reshape(test_labels,(test_data.shape[0],1))\n",
    "print(num_feat)\n",
    "print(train_data.shape, train_labels.shape)\n",
    "print(train_data[0])\n",
    "print(train_labels[0])\n"
   ]
  },
  {
   "cell_type": "markdown",
   "metadata": {},
   "source": [
    "define logistic function and sgd"
   ]
  },
  {
   "cell_type": "code",
   "execution_count": 9,
   "metadata": {},
   "outputs": [
    {
     "data": {
      "text/plain": [
       "array([[ 1.,  1., 18., ...,  1.,  3.,  1.],\n",
       "       [ 1.,  1., 17., ...,  1.,  3.,  1.],\n",
       "       [ 1.,  1., 15., ...,  3.,  3.,  1.],\n",
       "       ...,\n",
       "       [ 1.,  1., 18., ...,  1.,  4.,  1.],\n",
       "       [ 1.,  1., 18., ...,  1.,  2.,  1.],\n",
       "       [ 1.,  1., 18., ...,  1.,  4.,  1.]])"
      ]
     },
     "execution_count": 9,
     "metadata": {},
     "output_type": "execute_result"
    }
   ],
   "source": [
    "np.hstack( (train_data,np.ones((train_data.shape[0],1))) )"
   ]
  },
  {
   "cell_type": "code",
   "execution_count": 6,
   "metadata": {},
   "outputs": [],
   "source": [
    "import numpy as np\n",
    "def logf(a, x):\n",
    "    return 1.0 / (1.0 + np.exp(-((x @ a))))\n",
    "\n",
    "def dlogf(a, x):\n",
    "    ##\n",
    "    ## The derivative of the logistic function is f * (1 - f)\n",
    "    ##\n",
    "    return logf(a, x) * (1 - logf(a, x))\n",
    "\n",
    "def one_step(x, y, a, eta):\n",
    "    x=np.hstack( (x,np.ones((x.shape[0],1))) ) # Appending 1 at the end of all train data rows\n",
    "    ypred = logf(a, x)\n",
    "    error = np.asscalar(sum((y - ypred)**2))\n",
    "    delta_a = sum((y - ypred) * ypred * (1 - ypred) * x)\n",
    "    delta_a = np.reshape(delta_a, (delta_a.shape[0],1))\n",
    "    a = a + (delta_a * eta)\n",
    "    return a, error/y.shape[0]"
   ]
  },
  {
   "cell_type": "code",
   "execution_count": 17,
   "metadata": {},
   "outputs": [
    {
     "data": {
      "text/plain": [
       "array([[0.88079708],\n",
       "       [0.88079708],\n",
       "       [0.88079708]])"
      ]
     },
     "execution_count": 17,
     "metadata": {},
     "output_type": "execute_result"
    }
   ],
   "source": [
    "logf(np.ones((2, 1)), np.ones((3, 2)))"
   ]
  },
  {
   "cell_type": "markdown",
   "metadata": {},
   "source": [
    "do batch gradient descent to estimate coefficients"
   ]
  },
  {
   "cell_type": "code",
   "execution_count": 10,
   "metadata": {},
   "outputs": [
    {
     "name": "stdout",
     "output_type": "stream",
     "text": [
      "0.25\n",
      "0.41492442563436754\n",
      "0.4149243173052042\n",
      "0.41492418087943994\n",
      "0.41492400377483885\n",
      "0.41492376456863145\n",
      "0.4149234235711046\n",
      "0.4149228980579079\n",
      "0.4149219821621679\n",
      "0.41491998132666136\n",
      "0.4149121319225214\n",
      "0.4149231354562038\n",
      "0.41492241082781883\n",
      "0.41492098651942694\n",
      "0.41491689219867217\n",
      "0.4147795008174788\n",
      "0.3721136037315019\n",
      "0.2949220902709142\n",
      "0.18594181086561307\n",
      "0.20342819398407117\n",
      "0.26376441045256716\n",
      "0.20082385978282974\n",
      "0.26102753386862587\n",
      "0.2094411285297479\n",
      "0.24793505019958695\n",
      "0.1957189879307379\n",
      "0.18577593186149366\n",
      "0.20820371098349566\n",
      "0.24973393832204593\n",
      "0.18283058516374864\n",
      "0.2013077001304799\n",
      "0.1851025423558289\n",
      "0.18697769560917862\n",
      "0.18760383826033816\n",
      "0.18187670799608507\n",
      "0.1864335801557109\n",
      "0.1841794382219442\n",
      "0.18189380362710844\n",
      "0.19104939443238822\n",
      "0.18815784888864343\n",
      "0.19485046776678827\n",
      "0.19521170217412478\n",
      "0.19530793878896435\n",
      "0.19525315505088453\n",
      "0.19511291347150822\n",
      "0.19493993788537906\n",
      "0.1947636228038335\n",
      "0.19459398736093167\n",
      "0.19443190965655202\n",
      "0.1942754332898977\n"
     ]
    }
   ],
   "source": [
    "a = np.zeros((num_feat+1,1))\n",
    "eta = 0.002\n",
    "for times in range(50000):\n",
    "    a, error = one_step(train_data, train_labels, a, eta)\n",
    "    if times%1000==0:\n",
    "        print(error)"
   ]
  },
  {
   "cell_type": "code",
   "execution_count": 12,
   "metadata": {},
   "outputs": [
    {
     "data": {
      "text/plain": [
       "(array([[ 3.36397046],\n",
       "        [-3.37993832],\n",
       "        [-0.11651035],\n",
       "        [ 1.25953214],\n",
       "        [-0.98031791],\n",
       "        [ 2.44553514],\n",
       "        [ 0.75702605],\n",
       "        [ 0.65884536],\n",
       "        [-0.43117021],\n",
       "        [ 1.162318  ],\n",
       "        [ 0.73892885],\n",
       "        [ 1.07986242],\n",
       "        [ 0.20880345],\n",
       "        [ 0.85583823],\n",
       "        [-4.12551707],\n",
       "        [-6.51892891],\n",
       "        [-1.08387023],\n",
       "        [-0.24357922],\n",
       "        [-2.26568681],\n",
       "        [-1.6592028 ],\n",
       "        [ 0.72801781],\n",
       "        [ 2.77601225],\n",
       "        [-0.69415685],\n",
       "        [-0.97509239],\n",
       "        [ 0.81037869],\n",
       "        [-1.1112997 ],\n",
       "        [ 0.56253498],\n",
       "        [-0.79394775],\n",
       "        [ 0.06367337],\n",
       "        [ 3.36397046]]), 0.19412235872804845)"
      ]
     },
     "execution_count": 12,
     "metadata": {},
     "output_type": "execute_result"
    }
   ],
   "source": [
    "one_step(train_data, train_labels, a, eta)"
   ]
  },
  {
   "cell_type": "markdown",
   "metadata": {},
   "source": [
    "get accuracy "
   ]
  },
  {
   "cell_type": "code",
   "execution_count": 18,
   "metadata": {},
   "outputs": [
    {
     "name": "stdout",
     "output_type": "stream",
     "text": [
      "(60, 1) (60, 1)\n"
     ]
    }
   ],
   "source": [
    "test_data_append=np.hstack( (test_data, np.ones((test_data.shape[0],1))) )\n",
    "pred_labels = np.round(logf(a,test_data_append)) # Using round() to make >.5 --> 1\n",
    "print(pred_labels.shape, test_labels.shape)\n",
    "#print((pred_labels[:,0]==test_labels[:,0]))"
   ]
  },
  {
   "cell_type": "code",
   "execution_count": 19,
   "metadata": {},
   "outputs": [],
   "source": [
    "results = []\n",
    "for i in range(len(pred_labels)):\n",
    "    results.append(pred_labels[i]==test_labels[i])"
   ]
  },
  {
   "cell_type": "code",
   "execution_count": 20,
   "metadata": {},
   "outputs": [
    {
     "data": {
      "text/plain": [
       "0.65"
      ]
     },
     "execution_count": 20,
     "metadata": {},
     "output_type": "execute_result"
    }
   ],
   "source": [
    "results.count(True)/len(pred_labels)"
   ]
  },
  {
   "cell_type": "markdown",
   "metadata": {},
   "source": [
    "**Excerise 1 :**  Plot the Precision-Recall Curve."
   ]
  },
  {
   "cell_type": "code",
   "execution_count": 46,
   "metadata": {},
   "outputs": [
    {
     "data": {
      "text/plain": [
       "array([1., 0., 0., 1., 1., 0., 0., 1., 1., 1., 1., 1., 1., 1., 0., 0., 1.,\n",
       "       0., 0., 0., 0., 0., 1., 1., 0., 0., 0., 0., 1., 0., 0., 1., 0., 0.,\n",
       "       1., 0., 0., 0., 0., 1., 0., 0., 0., 0., 0., 1., 0., 1., 0., 0., 0.,\n",
       "       0., 0., 0., 0., 0., 1., 0., 1., 1.])"
      ]
     },
     "execution_count": 46,
     "metadata": {},
     "output_type": "execute_result"
    }
   ],
   "source": [
    "p = pred_labels\n",
    "p = p.flatten()\n",
    "p, [True if i else False for i in pred_labels.flatten()]\n",
    "p.sum()\n",
    "p"
   ]
  },
  {
   "cell_type": "code",
   "execution_count": 85,
   "metadata": {},
   "outputs": [
    {
     "data": {
      "text/plain": [
       "[0.5, 0.8181818181818182, 0.5142857142857142]"
      ]
     },
     "execution_count": 85,
     "metadata": {},
     "output_type": "execute_result"
    }
   ],
   "source": [
    "def confusionmatrix(actuals, prediction):\n",
    "    TruePositive = sum([int(a == True and p == True) for a, p in zip(actuals, prediction)])\n",
    "    TrueNegative = sum([int(a == False and p == False) for a, p in zip(actuals, prediction)])\n",
    "    FalsePositive = sum([int(a == False and p == True) for a, p in zip(actuals, prediction)])\n",
    "    FalseNegative = sum([int(a == True and p == False) for a, p in zip(actuals, prediction)])\n",
    "    return TruePositive, TrueNegative, FalsePositive, FalseNegative\n",
    "\n",
    "def get_precision_recall(test_labels, pred_labels, thresh):\n",
    "    TruePositive, TrueNegative, FalsePositive, FalseNegative = confusionmatrix([True if i else False for i in test_labels.flatten()], [True if i else False for i in pred_labels.flatten()])\n",
    "    \n",
    "    # Precision  = tp / (tp + fp)\n",
    "    precision = float(TruePositive/(TruePositive + FalsePositive)) if TruePositive + FalsePositive != 0 else 99999.\n",
    "    \n",
    "    # Recall = tp / ( tp + fn ) \n",
    "    recall = float(TruePositive/(TruePositive + FalseNegative)) if TruePositive + FalsePositive != 0 else 99999.             \n",
    "    \n",
    "#     print('Precision = %f' % precision)\n",
    "#     print('Recall = %f' % recall)\n",
    "    \n",
    "    return [thresh, precision, recall]\n",
    "\n",
    "get_precision_recall(test_labels, pred_labels, 0.5)"
   ]
  },
  {
   "cell_type": "code",
   "execution_count": 22,
   "metadata": {},
   "outputs": [
    {
     "data": {
      "text/plain": [
       "array([[8.99008234e-01],\n",
       "       [2.24094276e-03],\n",
       "       [3.34675059e-01],\n",
       "       [9.50630003e-01],\n",
       "       [5.16424712e-01],\n",
       "       [1.37669581e-05],\n",
       "       [5.04392456e-02],\n",
       "       [8.57935602e-01],\n",
       "       [5.00017881e-01],\n",
       "       [7.80724449e-01],\n",
       "       [7.37991384e-01],\n",
       "       [9.96781969e-01],\n",
       "       [8.39490248e-01],\n",
       "       [5.20164467e-01],\n",
       "       [1.45843196e-01],\n",
       "       [2.89375330e-08],\n",
       "       [7.54942295e-01],\n",
       "       [2.44137148e-02],\n",
       "       [1.54175333e-05],\n",
       "       [2.28875616e-02],\n",
       "       [1.67732324e-03],\n",
       "       [8.59586000e-04],\n",
       "       [8.92575775e-01],\n",
       "       [8.48940202e-01],\n",
       "       [3.17501719e-01],\n",
       "       [4.04860298e-03],\n",
       "       [3.16298213e-05],\n",
       "       [4.88300453e-02],\n",
       "       [7.54336027e-01],\n",
       "       [5.49864417e-02],\n",
       "       [3.86460964e-03],\n",
       "       [9.78435047e-01],\n",
       "       [2.43170129e-04],\n",
       "       [2.06430112e-03],\n",
       "       [9.87645314e-01],\n",
       "       [2.10395304e-07],\n",
       "       [3.55517032e-04],\n",
       "       [2.78324850e-02],\n",
       "       [8.53441375e-04],\n",
       "       [8.84020397e-01],\n",
       "       [2.11025830e-02],\n",
       "       [1.61311078e-05],\n",
       "       [4.83326367e-02],\n",
       "       [6.45254807e-03],\n",
       "       [1.08986137e-02],\n",
       "       [6.77597246e-01],\n",
       "       [1.45503695e-02],\n",
       "       [5.13124145e-01],\n",
       "       [9.44258053e-05],\n",
       "       [2.15353190e-04],\n",
       "       [6.19745184e-05],\n",
       "       [1.08111773e-01],\n",
       "       [3.07372488e-03],\n",
       "       [5.51756916e-02],\n",
       "       [6.30806746e-04],\n",
       "       [3.25336202e-05],\n",
       "       [9.91891574e-01],\n",
       "       [3.52186643e-08],\n",
       "       [9.96489662e-01],\n",
       "       [8.95296034e-01]])"
      ]
     },
     "execution_count": 22,
     "metadata": {},
     "output_type": "execute_result"
    }
   ],
   "source": [
    "# For precision/recall curve, we have to tweak the probability for True from 0 to 1\n",
    "predicted_probs = logf(a,test_data_append)\n",
    "predicted_probs"
   ]
  },
  {
   "cell_type": "code",
   "execution_count": 88,
   "metadata": {},
   "outputs": [],
   "source": [
    "def get_predictions_for_thresholds(p_probs):\n",
    "    thresholds = np.linspace(0.0, 1.0, num=10) # What probabilites considered as True?\n",
    "    preds = {}\n",
    "    for t in thresholds:\n",
    "        preds[t] = p_probs > t\n",
    "    #     print(p)\n",
    "    return preds\n",
    "\n",
    "def get_precision_recall_curve_data(test_labels, predicted_probs):\n",
    "    data = []\n",
    "    threshold_predictions = get_predictions_for_thresholds(predicted_probs)\n",
    "    for k, v in threshold_predictions.items():\n",
    "#         print('For threshold = %f' % k)\n",
    "#         print(get_precision_recall(test_labels, v))\n",
    "        p_r = get_precision_recall(test_labels, v, k)\n",
    "        data += [p_r]\n",
    "        \n",
    "    return data\n",
    "\n",
    "prec_rec_data = get_precision_recall_curve_data(test_labels, predicted_probs)\n"
   ]
  },
  {
   "cell_type": "code",
   "execution_count": 97,
   "metadata": {},
   "outputs": [
    {
     "data": {
      "text/plain": [
       "([1.0,\n",
       "  0.5714285714285714,\n",
       "  0.5428571428571428,\n",
       "  0.5142857142857142,\n",
       "  0.5142857142857142,\n",
       "  0.45714285714285713,\n",
       "  0.45714285714285713,\n",
       "  0.34285714285714286,\n",
       "  0.22857142857142856,\n",
       "  99999.0],\n",
       " [0.5833333333333334,\n",
       "  0.8,\n",
       "  0.7916666666666666,\n",
       "  0.782608695652174,\n",
       "  0.8181818181818182,\n",
       "  0.8888888888888888,\n",
       "  0.8888888888888888,\n",
       "  0.8571428571428571,\n",
       "  0.8888888888888888,\n",
       "  99999.0])"
      ]
     },
     "execution_count": 97,
     "metadata": {},
     "output_type": "execute_result"
    }
   ],
   "source": [
    "prec_rec_data.sort()\n",
    "prec_rec_data\n",
    "[i[2] for i in prec_rec_data], [i[1] for i in prec_rec_data] #recall, prec"
   ]
  },
  {
   "cell_type": "code",
   "execution_count": 103,
   "metadata": {},
   "outputs": [
    {
     "data": {
      "image/png": "[encoded data removed]",
      "text/plain": [
       "<matplotlib.figure.Figure at 0x7f21fed70518>"
      ]
     },
     "metadata": {},
     "output_type": "display_data"
    }
   ],
   "source": [
    "# Draw precision/recall curve\n",
    "def prec_recall_curve_plot(prec_rec_data):\n",
    "    import matplotlib.pyplot as plt\n",
    "    plt.figure(figsize=(8,5))\n",
    "    prec_rec_data.sort()\n",
    "    plt.plot([i[2] for i in prec_rec_data], [i[1] for i in prec_rec_data], 'r.')\n",
    "    plt.xlabel(\"Recall\")\n",
    "    plt.ylabel(\"Precision\")\n",
    "    plt.title(\"Precision/Recall Curve\")\n",
    "    axes = plt.gca()\n",
    "    axes.set_xlim([0,1.0])\n",
    "    axes.set_ylim([0,1.0])\n",
    "    plt.show()\n",
    "    \n",
    "prec_recall_curve_plot(prec_rec_data)    "
   ]
  },
  {
   "cell_type": "markdown",
   "metadata": {},
   "source": [
    "**Excerise 2:** Vary the above ratio between Training and Testing.Verify the effect if any on the prediction accuracy."
   ]
  },
  {
   "cell_type": "code",
   "execution_count": 104,
   "metadata": {},
   "outputs": [],
   "source": [
    "TRAIN_TEST_RATIO = 0.85\n",
    "def train_test_split(data, TRAIN_TEST_RATIO):\n",
    "    picker = list(range(data.shape[0]))\n",
    "    # random.shuffle(picker)       ### randomly shuffle the data\n",
    "    trainMax = int(len(picker) * TRAIN_TEST_RATIO)\n",
    "    train_data = []\n",
    "    test_data = []\n",
    "    train_labels = []\n",
    "    test_labels = []\n",
    "    for pick in picker[:trainMax]:\n",
    "        train_data.append(list(data.values[pick][1:-1]))         ### select TRAIN_TEST_RATIO of data to be used as \n",
    "        train_labels.append((data.values[pick][-1]))\n",
    "    for pick in picker[trainMax:]:\n",
    "        test_data.append(list(data.values[pick][1:-1]))       ### select 1-TRAIN_TEST_RATIO% of data to be used as test set\n",
    "        test_labels.append((data.values[pick][-1]))\n",
    "    num_feat = len(train_data[0])    ## number of features to train\n",
    "\n",
    "    train_data=np.array(train_data)\n",
    "    train_labels=np.array(train_labels)\n",
    "    train_labels = np.reshape(train_labels,(train_data.shape[0],1))\n",
    "    test_data=np.array(test_data)\n",
    "    test_labels=np.array(test_labels)\n",
    "    test_labels=np.reshape(test_labels,(test_data.shape[0],1))\n",
    "    print(num_feat)\n",
    "    print(train_data.shape, train_labels.shape)\n",
    "    print(train_data[0])\n",
    "    print(train_labels[0])\n",
    "    \n",
    "    return train_data, train_labels, test_data, test_labels"
   ]
  },
  {
   "cell_type": "code",
   "execution_count": null,
   "metadata": {},
   "outputs": [],
   "source": []
  }
 ],
 "metadata": {
  "kernelspec": {
   "display_name": "Python 3",
   "language": "python",
   "name": "python3"
  },
  "language_info": {
   "codemirror_mode": {
    "name": "ipython",
    "version": 3
   },
   "file_extension": ".py",
   "mimetype": "text/x-python",
   "name": "python",
   "nbconvert_exporter": "python",
   "pygments_lexer": "ipython3",
   "version": "3.5.2"
  }
 },
 "nbformat": 4,
 "nbformat_minor": 2
}
