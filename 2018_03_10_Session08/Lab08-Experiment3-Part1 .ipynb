{
 "cells": [
  {
   "cell_type": "markdown",
   "metadata": {},
   "source": [
    "# Foundations of AI & ML\n",
    "## Session 08\n",
    "### Experiment 3-Part-1 "
   ]
  },
  {
   "cell_type": "markdown",
   "metadata": {},
   "source": [
    "### Hyper parameters  \n",
    "\n",
    "A hyperparameter is a parameter whose value is set before the learning process begins.\n",
    "\n",
    "In this experiment we are going to tune the hyper parameters of MLPClassifier using MNIST dataset."
   ]
  },
  {
   "cell_type": "markdown",
   "metadata": {},
   "source": [
    "**Importing the required packages**\n"
   ]
  },
  {
   "cell_type": "code",
   "execution_count": 1,
   "metadata": {},
   "outputs": [],
   "source": [
    "import numpy as np\n",
    "from matplotlib import pyplot as plt\n",
    "from sklearn import datasets\n",
    "from sklearn.model_selection import train_test_split\n",
    "from sklearn.neural_network import MLPClassifier"
   ]
  },
  {
   "cell_type": "code",
   "execution_count": 2,
   "metadata": {},
   "outputs": [],
   "source": [
    "#Load MNIST datset \n",
    "digits = datasets.load_digits(n_class=10)\n",
    "# Create our X and y data\n",
    "data = digits.data\n",
    "target = digits.target"
   ]
  },
  {
   "cell_type": "markdown",
   "metadata": {},
   "source": [
    "**Exercise 1 ** Split the data into train,test and validation sets."
   ]
  },
  {
   "cell_type": "code",
   "execution_count": 3,
   "metadata": {},
   "outputs": [
    {
     "name": "stdout",
     "output_type": "stream",
     "text": [
      "(1078, 64) (359, 64) (360, 64)\n"
     ]
    }
   ],
   "source": [
    "X_train, X_test, X_validation = np.split(data, [int(.6 * len(data)), int(.8 * len(data))])\n",
    "Y_train, Y_test, Y_validation = np.split(target, [int(.6 * len(target)), int(.8 * len(target))])\n",
    "print(X_train.shape, X_test.shape, X_validation.shape)"
   ]
  },
  {
   "cell_type": "code",
   "execution_count": 5,
   "metadata": {},
   "outputs": [],
   "source": [
    "#function to Create MLP classifier object with hyper parameters\n",
    "def mlp(a,s,h,lr):\n",
    "    clf = MLPClassifier(activation=a, solver=s, hidden_layer_sizes=h, max_iter=5000, learning_rate='constant', learning_rate_init=lr)\n",
    "    return clf \n",
    "\n",
    "#function to calculate the accuracy\n",
    "def accuracy(actual, predicted):\n",
    "    return np.count_nonzero(actual == predicted)*1.0/len(actual)"
   ]
  },
  {
   "cell_type": "code",
   "execution_count": 6,
   "metadata": {},
   "outputs": [],
   "source": [
    "### hyper parameters\n",
    "# activation\n",
    "a = [\"identity\", \"logistic\", \"tanh\", \"relu\"]\n",
    "#solvers\n",
    "s = [\"lbfgs\", \"sgd\", \"adam\"]\n",
    "#learning rate\n",
    "lr = [0.0001, 0.001, 0.01, 0.1]\n",
    "#hidden layers\n",
    "h = [(5, 2), (3, 2), (6, 3), (7, 2)]"
   ]
  },
  {
   "cell_type": "markdown",
   "metadata": {},
   "source": [
    "** Exercise 2 ** Calculate test and validation accuracy"
   ]
  },
  {
   "cell_type": "code",
   "execution_count": 7,
   "metadata": {},
   "outputs": [
    {
     "name": "stdout",
     "output_type": "stream",
     "text": [
      "\n",
      "Hyper-parameters = \n",
      " activation =  logistic \n",
      " solver =  adam \n",
      " learning_rate_init =  0.001 \n",
      " hidden_layer_sizes =  (6, 3)\n",
      "(train, val, test) accuracy =  0.974025974025974 0.7888888888888889 0.8217270194986073\n",
      "\n",
      "Hyper-parameters = \n",
      " activation =  relu \n",
      " solver =  lbfgs \n",
      " learning_rate_init =  0.1 \n",
      " hidden_layer_sizes =  (3, 2)\n",
      "(train, val, test) accuracy =  0.4313543599257885 0.375 0.362116991643454\n",
      "\n",
      "Hyper-parameters = \n",
      " activation =  logistic \n",
      " solver =  adam \n",
      " learning_rate_init =  0.001 \n",
      " hidden_layer_sizes =  (6, 3)\n",
      "(train, val, test) accuracy =  0.891465677179963 0.7083333333333334 0.7437325905292479\n",
      "\n",
      "Hyper-parameters = \n",
      " activation =  identity \n",
      " solver =  sgd \n",
      " learning_rate_init =  0.1 \n",
      " hidden_layer_sizes =  (3, 2)\n"
     ]
    },
    {
     "name": "stderr",
     "output_type": "stream",
     "text": [
      "/usr/local/lib/python3.5/dist-packages/sklearn/neural_network/_base.py:91: RuntimeWarning: invalid value encountered in subtract\n",
      "  tmp = X - X.max(axis=1)[:, np.newaxis]\n",
      "/usr/local/lib/python3.5/dist-packages/numpy/core/_methods.py:26: RuntimeWarning: invalid value encountered in reduce\n",
      "  return umr_maximum(a, axis, None, out, keepdims)\n",
      "/usr/local/lib/python3.5/dist-packages/sklearn/neural_network/multilayer_perceptron.py:564: ConvergenceWarning: Stochastic Optimizer: Maximum iterations (5000) reached and the optimization hasn't converged yet.\n",
      "  % self.max_iter, ConvergenceWarning)\n"
     ]
    },
    {
     "name": "stdout",
     "output_type": "stream",
     "text": [
      "(train, val, test) accuracy =  0.09925788497217068 0.09722222222222222 0.10027855153203342\n",
      "\n",
      "Hyper-parameters = \n",
      " activation =  tanh \n",
      " solver =  lbfgs \n",
      " learning_rate_init =  0.01 \n",
      " hidden_layer_sizes =  (7, 2)\n",
      "(train, val, test) accuracy =  0.6076066790352505 0.5277777777777778 0.520891364902507\n",
      "\n",
      "Hyper-parameters = \n",
      " activation =  logistic \n",
      " solver =  adam \n",
      " learning_rate_init =  0.01 \n",
      " hidden_layer_sizes =  (7, 2)\n",
      "(train, val, test) accuracy =  0.6799628942486086 0.5777777777777777 0.6183844011142061\n",
      "\n",
      "Hyper-parameters = \n",
      " activation =  relu \n",
      " solver =  lbfgs \n",
      " learning_rate_init =  0.1 \n",
      " hidden_layer_sizes =  (6, 3)\n",
      "(train, val, test) accuracy =  0.8237476808905381 0.6833333333333333 0.7019498607242339\n",
      "\n",
      "Hyper-parameters = \n",
      " activation =  identity \n",
      " solver =  lbfgs \n",
      " learning_rate_init =  0.1 \n",
      " hidden_layer_sizes =  (7, 2)\n",
      "(train, val, test) accuracy =  0.8293135435992579 0.6777777777777778 0.6880222841225627\n",
      "\n",
      "Hyper-parameters = \n",
      " activation =  relu \n",
      " solver =  sgd \n",
      " learning_rate_init =  0.1 \n",
      " hidden_layer_sizes =  (5, 2)\n",
      "(train, val, test) accuracy =  0.10296846011131726 0.10277777777777777 0.0947075208913649\n",
      "\n",
      "Hyper-parameters = \n",
      " activation =  tanh \n",
      " solver =  sgd \n",
      " learning_rate_init =  0.0001 \n",
      " hidden_layer_sizes =  (6, 3)\n",
      "(train, val, test) accuracy =  0.44712430426716143 0.34444444444444444 0.3871866295264624\n"
     ]
    }
   ],
   "source": [
    "test_accuracy = []\n",
    "validation_accuracy = []\n",
    "train_accuracy = []\n",
    "for i in range(10):\n",
    "    k1 = np.random.randint(0, len(a))\n",
    "    k2 = np.random.randint(0, len(s))\n",
    "    k3 = np.random.randint(0, len(lr))\n",
    "    k4 = np.random.randint(0, len(h))\n",
    "    print(\"\\nHyper-parameters = \\n activation = \", a[k1],    \"\\n solver = \", s[k2], \"\\n learning_rate_init = \", lr[k3],         \"\\n hidden_layer_sizes = \", h[k4])\n",
    "    #calling the mlp function with random hyper paramters\n",
    "    clf = mlp(a[k1], s[k2], h[k4], lr[k3])\n",
    "    #Fitting the data into model\n",
    "    clf.fit(X_train, Y_train)\n",
    "    ## Predicting the values on trained model using train data\n",
    "    predTrain = clf.predict((X_train))\n",
    "    #Calculating the train accuracy\n",
    "    train_accuracy.append(accuracy(Y_train, predTrain))\n",
    "    # Predicting the values on trained model using test data\n",
    "    predTest = clf.predict((X_test))\n",
    "    #Calculating the test accuracy\n",
    "    test_accuracy.append(accuracy(Y_test, predTest))\n",
    "    ## Predicting the values on trained model using validation data\n",
    "    predVal = clf.predict((X_validation))\n",
    "    #Calculating the validation accuracy\n",
    "    validation_accuracy.append(accuracy(Y_validation,predVal))\n",
    "    print(\"(train, val, test) accuracy = \", accuracy(Y_train, predTrain), accuracy(Y_validation,predVal), accuracy(Y_test,predTest))"
   ]
  },
  {
   "cell_type": "code",
   "execution_count": 8,
   "metadata": {},
   "outputs": [
    {
     "data": {
      "image/png": "[encoded data removed]",
      "text/plain": [
       "<matplotlib.figure.Figure at 0x7f497f8d3390>"
      ]
     },
     "metadata": {},
     "output_type": "display_data"
    }
   ],
   "source": [
    "## Plotting the data\n",
    "xx = np.array(range(1,11))\n",
    "plt.bar(xx-0.2, train_accuracy, width=0.2)\n",
    "plt.bar(xx, validation_accuracy, width=0.2)\n",
    "plt.bar(xx+0.2, test_accuracy, width=0.2)\n",
    "plt.legend([\"Train\", \"Validation\", \"Test\"])\n",
    "plt.show()"
   ]
  },
  {
   "cell_type": "code",
   "execution_count": null,
   "metadata": {},
   "outputs": [],
   "source": []
  },
  {
   "cell_type": "code",
   "execution_count": null,
   "metadata": {},
   "outputs": [],
   "source": []
  },
  {
   "cell_type": "code",
   "execution_count": null,
   "metadata": {},
   "outputs": [],
   "source": []
  },
  {
   "cell_type": "code",
   "execution_count": null,
   "metadata": {},
   "outputs": [],
   "source": []
  },
  {
   "cell_type": "code",
   "execution_count": null,
   "metadata": {},
   "outputs": [],
   "source": []
  },
  {
   "cell_type": "markdown",
   "metadata": {},
   "source": [
    "**Solutions**"
   ]
  },
  {
   "cell_type": "markdown",
   "metadata": {},
   "source": [
    "**Exercise 1 **"
   ]
  },
  {
   "cell_type": "code",
   "execution_count": null,
   "metadata": {},
   "outputs": [],
   "source": [
    "X_train, X_test, X_validation = np.split(data, [int(.6 * len(data)), int(.8 * len(data))])\n",
    "Y_train, Y_test, Y_validation = np.split(target, [int(.6 * len(target)), int(.8 * len(target))])"
   ]
  },
  {
   "cell_type": "markdown",
   "metadata": {},
   "source": [
    "**Exercise 2**"
   ]
  },
  {
   "cell_type": "code",
   "execution_count": null,
   "metadata": {},
   "outputs": [],
   "source": [
    "test_accuracy.append(accuracy(Y_test,predTest))\n",
    "validation_accuracy.append(accuracy(Y_validation,predVal))"
   ]
  }
 ],
 "metadata": {
  "kernelspec": {
   "display_name": "Python 3",
   "language": "python",
   "name": "python3"
  },
  "language_info": {
   "codemirror_mode": {
    "name": "ipython",
    "version": 3
   },
   "file_extension": ".py",
   "mimetype": "text/x-python",
   "name": "python",
   "nbconvert_exporter": "python",
   "pygments_lexer": "ipython3",
   "version": "3.5.2"
  }
 },
 "nbformat": 4,
 "nbformat_minor": 2
}
