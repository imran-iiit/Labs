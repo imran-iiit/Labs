{
 "cells": [
  {
   "cell_type": "markdown",
   "metadata": {},
   "source": [
    "# Foundations of AI & ML\n",
    "## Session 10\n",
    "### Experiment 5"
   ]
  },
  {
   "cell_type": "markdown",
   "metadata": {},
   "source": [
    "The aim of this experiment is to perform non-linear dimensionality reduction using an Autoencoder. \n",
    "\n",
    "We will use the 20 news classification text dataset previously used and similarly plot the data using t-sne.\n",
    "\n",
    "http://archive.ics.uci.edu/ml/datasets/Twenty+Newsgroups."
   ]
  },
  {
   "cell_type": "markdown",
   "metadata": {},
   "source": [
    "#### Importing required packages"
   ]
  },
  {
   "cell_type": "code",
   "execution_count": 1,
   "metadata": {},
   "outputs": [],
   "source": [
    "import numpy as np \n",
    "import pandas as pd \n",
    "import matplotlib.pyplot as plt\n",
    "### importing pytorch packages\n",
    "import torch\n",
    "from torch.utils.data import Dataset\n",
    "from torch.autograd import Variable\n",
    "from torch.utils.data import DataLoader\n",
    "from torch import nn\n",
    "import torch.autograd as autograd\n",
    "from sklearn import manifold"
   ]
  },
  {
   "cell_type": "markdown",
   "metadata": {},
   "source": [
    "#### Loading the dataset"
   ]
  },
  {
   "cell_type": "code",
   "execution_count": 2,
   "metadata": {},
   "outputs": [
    {
     "name": "stdout",
     "output_type": "stream",
     "text": [
      "dict_keys(['comp.graphics', 'alt.atheism', 'sci.med', 'rec.sport.hockey', 'rec.motorcycles', 'comp.windows.x', 'comp.os.ms-windows.misc', 'rec.sport.baseball', 'comp.sys.mac.hardware', 'talk.politics.mideast', 'rec.autos', 'talk.politics.misc', 'sci.space', 'soc.religion.christian', 'talk.religion.misc', 'talk.politics.guns', 'sci.crypt', 'sci.electronics', 'comp.sys.ibm.pc.hardware', 'misc.forsale'])\n"
     ]
    }
   ],
   "source": [
    "import pickle\n",
    "dataset = pickle.load(open('../Datasets/newsgroups.pkl','rb'))\n",
    "print(dataset.keys())"
   ]
  },
  {
   "cell_type": "markdown",
   "metadata": {},
   "source": [
    "#### Dividing the dataset into train and test\n",
    "\n",
    "We will use 950 samples from each class in the training set, and the remaining 50 (Are you sure?)  in the test set. "
   ]
  },
  {
   "cell_type": "code",
   "execution_count": 3,
   "metadata": {},
   "outputs": [],
   "source": [
    "train_set = {}\n",
    "test_set = {}\n",
    "\n",
    "# Clean dataset for text encoding issues :- Very useful when dealing with non-unicode characters\n",
    "for key in dataset:\n",
    "    dataset[key] = [[i.decode('utf-8', errors='replace').lower() for i in f] for f in dataset[key]]\n",
    "    \n",
    "# Break dataset into 95-5 split for training and testing\n",
    "n_train = 0\n",
    "n_test = 0\n",
    "for k in dataset:\n",
    "    split = int(0.95*len(dataset[k]))\n",
    "    train_set[k] = dataset[k][0:split]\n",
    "    test_set[k] = dataset[k][split:-1]\n",
    "    n_train += len(train_set[k])\n",
    "    n_test += len(test_set[k])"
   ]
  },
  {
   "cell_type": "markdown",
   "metadata": {},
   "source": [
    "#### Loading the predefined word2vec file"
   ]
  },
  {
   "cell_type": "code",
   "execution_count": 4,
   "metadata": {},
   "outputs": [],
   "source": [
    "import gensim\n",
    "model = gensim.models.KeyedVectors.load_word2vec_format('../Datasets/GoogleNews-vectors-negative300.bin', binary=True, limit=500000)"
   ]
  },
  {
   "cell_type": "markdown",
   "metadata": {},
   "source": [
    "#### Calculating the frequency of the words"
   ]
  },
  {
   "cell_type": "code",
   "execution_count": 5,
   "metadata": {},
   "outputs": [],
   "source": [
    "import collections\n",
    "import re\n",
    "import operator\n",
    "frequency = collections.defaultdict(int)\n",
    "    \n",
    "for key in train_set:\n",
    "    for f in train_set[key]:\n",
    "        \n",
    "        # Find all words which consist only of capital and lowercase characters and are between length of 2-9.\n",
    "        # We ignore all special characters such as !.$ and words containing numbers\n",
    "        words = re.findall(r'(\\b[A-Za-z][a-z]{2,9}\\b)', ' '.join(f))\n",
    "    \n",
    "        for word in words:\n",
    "            frequency[word] += 1\n",
    "\n",
    "sorted_words = sorted(frequency.items(), key=operator.itemgetter(1), reverse=True)"
   ]
  },
  {
   "cell_type": "markdown",
   "metadata": {},
   "source": [
    "#### Preprocessing the data"
   ]
  },
  {
   "cell_type": "code",
   "execution_count": 6,
   "metadata": {},
   "outputs": [
    {
     "name": "stdout",
     "output_type": "stream",
     "text": [
      "Number of words before preprocessing: 89599\n",
      "Number of words after preprocessing: 4096\n"
     ]
    }
   ],
   "source": [
    "\n",
    "valid_words = collections.defaultdict(int)\n",
    "\n",
    "print('Number of words before preprocessing:', len(sorted_words))\n",
    "\n",
    "# Ignore the 25 most frequent words, and the words which appear less than 100 times\n",
    "ignore_most_frequent = 25\n",
    "freq_thresh = 100\n",
    "feature_number = 0\n",
    "for word, word_frequency in sorted_words[ignore_most_frequent:]:\n",
    "    if word_frequency > freq_thresh:\n",
    "        valid_words[word] = feature_number\n",
    "        feature_number += 1\n",
    "        \n",
    "print('Number of words after preprocessing:', len(valid_words))\n",
    "\n",
    "word_vector_size = len(valid_words)"
   ]
  },
  {
   "cell_type": "markdown",
   "metadata": {},
   "source": [
    "#### Function for word2vec"
   ]
  },
  {
   "cell_type": "code",
   "execution_count": 7,
   "metadata": {},
   "outputs": [],
   "source": [
    "import numpy as np\n",
    "\n",
    "word2vec_vector_size = 300\n",
    "\n",
    "'''\n",
    " This method converts documents to word vectors. It first checks if the word is valid according to our initial frequency \n",
    " threshold. Next, if it is, we add the precomputed word vectors together. If the word is valid, but we do not have a valid \n",
    " vector to represent the word, we add a random gaussian noise instead. Since we do not want to induce new noise each time,\n",
    " we store the same noise vector for training and test time in substitute_word_vecs variable.\n",
    "'''\n",
    "def convert_to_w2v(dataset, number_of_documents, substitute_word_vecs={}):\n",
    "    labels = np.zeros((number_of_documents, 1))\n",
    "    w2v_rep = np.zeros((number_of_documents, word2vec_vector_size))\n",
    "    \n",
    "    # Iterate over the dataset and split into words\n",
    "    i = 0\n",
    "    for label, class_name in enumerate(dataset):\n",
    "        for f in dataset[class_name]:\n",
    "            text = ' '.join(f).split(' ')\n",
    "            valid_count = 1\n",
    "            for word in text:\n",
    "                \n",
    "                # Check if word is valid or not according to original dataset pruning\n",
    "                if word in valid_words:\n",
    "                    try:\n",
    "                        w2v_rep[i] += model[word]\n",
    "                    except:\n",
    "                        '''The word isn't in our pretrained word-vectors, hence we add a random gaussian noise\n",
    "                         to account for this. We store the random vector we assigned to the word, and reuse \n",
    "                         the same vector during test time to ensure consistency.'''\n",
    "                        \n",
    "                        if word not in substitute_word_vecs.keys():\n",
    "                            substitute_word_vecs[word] = np.random.normal(-0.25, 0.25, word2vec_vector_size)\n",
    "                            \n",
    "                        w2v_rep[i] += substitute_word_vecs[word]\n",
    "                    \n",
    "                    valid_count += 1\n",
    "            \n",
    "            # Average\n",
    "            w2v_rep[i] = w2v_rep[i] / valid_count\n",
    "            \n",
    "            # Save label\n",
    "            labels[i] = label\n",
    "            \n",
    "            i += 1\n",
    "    \n",
    "    return w2v_rep, labels, substitute_word_vecs\n"
   ]
  },
  {
   "cell_type": "markdown",
   "metadata": {},
   "source": [
    "#### Convert the train and test datasets into their word2vec representations"
   ]
  },
  {
   "cell_type": "code",
   "execution_count": 8,
   "metadata": {},
   "outputs": [],
   "source": [
    "train_w2v_set, train_w2v_labels, substitute_word_vecs = convert_to_w2v(train_set, n_train)\n",
    "test_w2v_set, test_w2v_labels,_ = convert_to_w2v(test_set, n_test, substitute_word_vecs)"
   ]
  },
  {
   "cell_type": "markdown",
   "metadata": {},
   "source": [
    "#### Let us build a autoencoder model. The autoencoder consists of two parts: Encoding, which performs non-linear dimenssionality reduction to give us a compressed representation and decoding, which converts the compressed representation back to original."
   ]
  },
  {
   "cell_type": "code",
   "execution_count": 9,
   "metadata": {},
   "outputs": [],
   "source": [
    "class autoencoder(nn.Module):\n",
    "    def __init__(self):\n",
    "        super(autoencoder, self).__init__()\n",
    "        self.encoder = nn.Sequential(\n",
    "            nn.Linear(300,100),\n",
    "            nn.ReLU(True),\n",
    "            nn.Linear(100,30),\n",
    "            nn.ReLU(True))\n",
    "        self.decoder = nn.Sequential(\n",
    "            nn.Linear(30,100),\n",
    "            nn.ReLU(True),\n",
    "            nn.Linear(100,300))\n",
    "\n",
    "    def forward(self, x):\n",
    "        y = self.encoder(x)\n",
    "        z = self.decoder(y)\n",
    "        return y,z\n",
    "    \n",
    "\n",
    "\n",
    "model = autoencoder()\n",
    "criterion = nn.MSELoss()\n",
    "optimizer = torch.optim.Adam(model.parameters(), lr=0.01, weight_decay=1e-5)"
   ]
  },
  {
   "cell_type": "markdown",
   "metadata": {},
   "source": [
    "We will convert training dataset first into a torch tensor, and form a differentiable Variable."
   ]
  },
  {
   "cell_type": "code",
   "execution_count": 10,
   "metadata": {},
   "outputs": [],
   "source": [
    "## Converting an array to a tensor \n",
    "value = torch.Tensor(np.array(train_w2v_set))\n",
    "## Creating a pytorch variable\n",
    "text = Variable(value)   \n",
    "## Calling the model\n",
    "encoder_values, decoder_values = model(text)"
   ]
  },
  {
   "cell_type": "code",
   "execution_count": 11,
   "metadata": {},
   "outputs": [],
   "source": [
    "### Converting pytorch variable into numpy array\n",
    "encode = encoder_values.data.numpy()"
   ]
  },
  {
   "cell_type": "code",
   "execution_count": 12,
   "metadata": {},
   "outputs": [],
   "source": [
    "### Storing all the words in words list\n",
    "words =[]\n",
    "for key in substitute_word_vecs:\n",
    "    words.append(key)"
   ]
  },
  {
   "cell_type": "markdown",
   "metadata": {},
   "source": [
    "#### Applying T-SNE\n",
    "We will take first 50 values to visualize the data."
   ]
  },
  {
   "cell_type": "code",
   "execution_count": 13,
   "metadata": {},
   "outputs": [],
   "source": [
    "X = encode[:50]\n",
    "tsne_data = manifold.TSNE(n_components=2).fit_transform(X)"
   ]
  },
  {
   "cell_type": "code",
   "execution_count": 14,
   "metadata": {},
   "outputs": [
    {
     "data": {
      "image/png": "[encoded data removed]",
      "text/plain": [
       "<matplotlib.figure.Figure at 0x7fe3b083c940>"
      ]
     },
     "metadata": {},
     "output_type": "display_data"
    }
   ],
   "source": [
    "plt.scatter(tsne_data[:,0],tsne_data[:,1])\n",
    "for i in range(len(words[:50]) - 1):\n",
    "    plt.annotate(words[i], xy = (tsne_data[i][0],tsne_data[i][1]))\n",
    "plt.show()"
   ]
  },
  {
   "cell_type": "code",
   "execution_count": null,
   "metadata": {},
   "outputs": [],
   "source": []
  }
 ],
 "metadata": {
  "kernelspec": {
   "display_name": "Python 3",
   "language": "python",
   "name": "python3"
  },
  "language_info": {
   "codemirror_mode": {
    "name": "ipython",
    "version": 3
   },
   "file_extension": ".py",
   "mimetype": "text/x-python",
   "name": "python",
   "nbconvert_exporter": "python",
   "pygments_lexer": "ipython3",
   "version": "3.5.2"
  }
 },
 "nbformat": 4,
 "nbformat_minor": 2
}
