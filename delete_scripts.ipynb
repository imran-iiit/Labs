{
 "cells": [
  {
   "cell_type": "code",
   "execution_count": 1,
   "metadata": {},
   "outputs": [
    {
     "data": {
      "text/plain": [
       "'/notebooks'"
      ]
     },
     "execution_count": 1,
     "metadata": {},
     "output_type": "execute_result"
    }
   ],
   "source": [
    "pwd"
   ]
  },
  {
   "cell_type": "code",
   "execution_count": 2,
   "metadata": {},
   "outputs": [
    {
     "name": "stdout",
     "output_type": "stream",
     "text": [
      "/notebooks/2018_03_31_Session10\n"
     ]
    }
   ],
   "source": [
    "cd 2018_03_31_Session10"
   ]
  },
  {
   "cell_type": "code",
   "execution_count": 3,
   "metadata": {},
   "outputs": [
    {
     "name": "stdout",
     "output_type": "stream",
     "text": [
      "Lab10-Experiment1.ipynb          Lab10-Experiment4_bkp.ipynb     \u001b[0m\u001b[01;34m__pycache__\u001b[0m/\r\n",
      "Lab10-Experiment2.ipynb          Lab10-Experiment4_delete.ipynb  dog.jpg\r\n",
      "Lab10-Experiment3-Part1.ipynb    Lab10-Experiment5 (1).ipynb     my_model.model\r\n",
      "Lab10-Experiment4 (1).ipynb      Lab10-Experiment5.ipynb         utils.py\r\n",
      "Lab10-Experiment4.ipynb          Lab10-Experiment5_bkp.ipynb\r\n",
      "Lab10-Experiment4_WORKING.ipynb  Lab10-Experiment5_delete.ipynb\r\n"
     ]
    }
   ],
   "source": [
    "ls\n"
   ]
  },
  {
   "cell_type": "code",
   "execution_count": 4,
   "metadata": {},
   "outputs": [],
   "source": [
    "rm Lab10-Experiment5_delete.ipynb"
   ]
  },
  {
   "cell_type": "code",
   "execution_count": 5,
   "metadata": {},
   "outputs": [
    {
     "name": "stdout",
     "output_type": "stream",
     "text": [
      "Lab10-Experiment1.ipynb          Lab10-Experiment5 (1).ipynb\r\n",
      "Lab10-Experiment2.ipynb          Lab10-Experiment5.ipynb\r\n",
      "Lab10-Experiment3-Part1.ipynb    Lab10-Experiment5_bkp.ipynb\r\n",
      "Lab10-Experiment4 (1).ipynb      \u001b[0m\u001b[01;34m__pycache__\u001b[0m/\r\n",
      "Lab10-Experiment4.ipynb          dog.jpg\r\n",
      "Lab10-Experiment4_WORKING.ipynb  my_model.model\r\n",
      "Lab10-Experiment4_bkp.ipynb      utils.py\r\n",
      "Lab10-Experiment4_delete.ipynb\r\n"
     ]
    }
   ],
   "source": [
    "ls"
   ]
  },
  {
   "cell_type": "code",
   "execution_count": 6,
   "metadata": {},
   "outputs": [],
   "source": [
    "rm Lab10-Experiment4_delete.ipynb"
   ]
  },
  {
   "cell_type": "code",
   "execution_count": 7,
   "metadata": {},
   "outputs": [
    {
     "name": "stdout",
     "output_type": "stream",
     "text": [
      "Lab10-Experiment1.ipynb        Lab10-Experiment4_WORKING.ipynb  \u001b[0m\u001b[01;34m__pycache__\u001b[0m/\r\n",
      "Lab10-Experiment2.ipynb        Lab10-Experiment4_bkp.ipynb      dog.jpg\r\n",
      "Lab10-Experiment3-Part1.ipynb  Lab10-Experiment5 (1).ipynb      my_model.model\r\n",
      "Lab10-Experiment4 (1).ipynb    Lab10-Experiment5.ipynb          utils.py\r\n",
      "Lab10-Experiment4.ipynb        Lab10-Experiment5_bkp.ipynb\r\n"
     ]
    }
   ],
   "source": [
    "ls"
   ]
  },
  {
   "cell_type": "code",
   "execution_count": null,
   "metadata": {},
   "outputs": [],
   "source": []
  }
 ],
 "metadata": {
  "kernelspec": {
   "display_name": "Python 3",
   "language": "python",
   "name": "python3"
  },
  "language_info": {
   "codemirror_mode": {
    "name": "ipython",
    "version": 3
   },
   "file_extension": ".py",
   "mimetype": "text/x-python",
   "name": "python",
   "nbconvert_exporter": "python",
   "pygments_lexer": "ipython3",
   "version": "3.5.2"
  }
 },
 "nbformat": 4,
 "nbformat_minor": 2
}
