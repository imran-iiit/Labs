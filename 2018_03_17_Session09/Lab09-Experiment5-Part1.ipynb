{
 "cells": [
  {
   "cell_type": "markdown",
   "metadata": {},
   "source": [
    "# Foundations of AI & ML\n",
    "## Session 09\n",
    "### Experiment 5 - Part 1"
   ]
  },
  {
   "cell_type": "markdown",
   "metadata": {},
   "source": [
    "In this experiment we will use RNN to classify text one character at a time.\n",
    "We will be using shakespeare.txt as our input file to the classifier."
   ]
  },
  {
   "cell_type": "markdown",
   "metadata": {},
   "source": [
    "The idea behind RNNs is to make use of sequential information. In a traditional neural network we assume that all inputs (and outputs) are independent of each other. But for many tasks that’s a very bad idea. If you want to predict the next word in a sentence you better know which words came before it. RNNs are called recurrent because they perform the same task for every element of a sequence, with the output being depended on the previous computations."
   ]
  },
  {
   "cell_type": "markdown",
   "metadata": {},
   "source": [
    "#### Preparing the data"
   ]
  },
  {
   "cell_type": "markdown",
   "metadata": {},
   "source": [
    "The file we are using is a plain text file. We turn any potential unicode characters into plain ASCII by using the unidecode package.\n",
    "\n",
    "To install the package run the following command\n"
   ]
  },
  {
   "cell_type": "code",
   "execution_count": 1,
   "metadata": {},
   "outputs": [
    {
     "name": "stdout",
     "output_type": "stream",
     "text": [
      "Collecting unidecode\n",
      "  Downloading Unidecode-1.0.22-py2.py3-none-any.whl (235kB)\n",
      "\u001b[K    100% |################################| 235kB 6.0MB/s eta 0:00:01\n",
      "\u001b[?25hInstalling collected packages: unidecode\n",
      "Successfully installed unidecode-1.0.22\n",
      "\u001b[33mYou are using pip version 9.0.1, however version 9.0.2 is available.\n",
      "You should consider upgrading via the 'pip install --upgrade pip' command.\u001b[0m\n"
     ]
    }
   ],
   "source": [
    "# !pip3 install unidecode"
   ]
  },
  {
   "cell_type": "code",
   "execution_count": 2,
   "metadata": {},
   "outputs": [],
   "source": [
    "## Importing required packages\n",
    "import unidecode\n",
    "import string\n",
    "import random\n",
    "import re"
   ]
  },
  {
   "cell_type": "code",
   "execution_count": 3,
   "metadata": {},
   "outputs": [
    {
     "name": "stdout",
     "output_type": "stream",
     "text": [
      "file_len = 1115393\n"
     ]
    }
   ],
   "source": [
    "all_characters = string.printable\n",
    "## code to find length of all_characters and storing the value in n_characters\n",
    "n_characters = len(all_characters)\n",
    "## code to convert unicode characters into plain ASCII.\n",
    "file = unidecode.unidecode(open('../Datasets/shakespeare.txt').read())\n",
    "## code to find length of the file\n",
    "file_len = len(file)\n",
    "## printing the length of the file\n",
    "print('file_len =', file_len)"
   ]
  },
  {
   "cell_type": "code",
   "execution_count": 6,
   "metadata": {
    "scrolled": true
   },
   "outputs": [
    {
     "data": {
      "text/plain": [
       "'0123456789abcdefghijklmnopqrstuvwxyzABCDEFGHIJKLMNOPQRSTUVWXYZ!\"#$%&\\'()*+,-./:;<=>?@[\\\\]^_`{|}~ \\t\\n\\r\\x0b\\x0c'"
      ]
     },
     "execution_count": 6,
     "metadata": {},
     "output_type": "execute_result"
    }
   ],
   "source": [
    "# print(file[:1000])\n",
    "# all_characters[:100] # All printable characters!\n",
    "# string.printable?"
   ]
  },
  {
   "cell_type": "markdown",
   "metadata": {},
   "source": [
    "#### As the string is large, we are going to split it into chunks to provide inputs to the RNN using function random_chunk()."
   ]
  },
  {
   "cell_type": "code",
   "execution_count": 7,
   "metadata": {},
   "outputs": [
    {
     "name": "stdout",
     "output_type": "stream",
     "text": [
      "I had rather had eleven die nobly for their\n",
      "country than one voluptuously surfeit out of action.\n",
      "\n",
      "Gentlewoman:\n",
      "Madam, the Lady Valeria is come to visit you.\n",
      "\n",
      "VIRGILIA:\n",
      "Beseech you, give me leave to ret\n"
     ]
    }
   ],
   "source": [
    "## Initializing the length of chunk\n",
    "chunk_len = 200\n",
    "## Function to split the string into chunks\n",
    "def random_chunk():\n",
    "    ## Initializing the starting index value of the big string \n",
    "    start_index = random.randint(0, file_len - chunk_len)\n",
    "    ## Initializing the ending index of the string \n",
    "    end_index = start_index + chunk_len + 1\n",
    "    ## returning the chunk\n",
    "    return file[start_index:end_index]\n",
    "\n",
    "print(random_chunk())"
   ]
  },
  {
   "cell_type": "markdown",
   "metadata": {},
   "source": [
    "#### Building the model"
   ]
  },
  {
   "cell_type": "markdown",
   "metadata": {},
   "source": [
    "This model will take as input the character for step $t_{-1}$ and is expected to output the next character $t$. There are three layers - one linear layer that encodes the input character into an internal state, one GRU layer (which may itself have multiple layers) that operates on that internal state and a hidden state, and a decoder layer that outputs the probability distribution.\n",
    "\n",
    "Gated recurrent units (GRUs) are a gating mechanism in recurrent neural networks, introduced in 2014 by Kyunghyun Cho et al.[1] Their performance on polyphonic music modeling and speech signal modeling was found to be similar to that of long short-term memory. However, GRUs have been shown to exhibit better performance on smaller datasets"
   ]
  },
  {
   "cell_type": "code",
   "execution_count": 9,
   "metadata": {},
   "outputs": [],
   "source": [
    "###importing required packages\n",
    "import torch\n",
    "import torch.nn as nn\n",
    "from torch.autograd import Variable\n",
    "\n",
    "### Creating recurrent neural network\n",
    "class RNN(nn.Module):\n",
    "    \n",
    "    def __init__(self, input_size, hidden_size, output_size, n_layers=1):\n",
    "        super(RNN, self).__init__()\n",
    "        self.input_size = input_size\n",
    "        self.hidden_size = hidden_size\n",
    "        self.output_size = output_size\n",
    "        self.n_layers = n_layers\n",
    "        self.encoder = nn.Embedding(input_size, hidden_size)\n",
    "        self.gru = nn.GRU(hidden_size, hidden_size, n_layers)\n",
    "        self.decoder = nn.Linear(hidden_size, output_size)\n",
    "    \n",
    "    def forward(self, input, hidden):\n",
    "        input = self.encoder(input.view(1, -1))\n",
    "        output, hidden = self.gru(input.view(1, 1, -1), hidden)\n",
    "        output = self.decoder(output.view(1, -1))\n",
    "        return output, hidden\n",
    "\n",
    "    def init_hidden(self):\n",
    "        return Variable(torch.zeros(self.n_layers, 1, self.hidden_size))"
   ]
  },
  {
   "cell_type": "markdown",
   "metadata": {},
   "source": [
    "#### Inputs and targets"
   ]
  },
  {
   "cell_type": "markdown",
   "metadata": {},
   "source": [
    "Each chunk will be turned into a tensor, specifically a LongTensor (used for integer values), by looping through the characters of the string and looking up the index of each character in all_characters."
   ]
  },
  {
   "cell_type": "code",
   "execution_count": 10,
   "metadata": {},
   "outputs": [
    {
     "name": "stdout",
     "output_type": "stream",
     "text": [
      "Variable containing:\n",
      " 10\n",
      " 11\n",
      " 12\n",
      " 39\n",
      " 40\n",
      " 41\n",
      "[torch.LongTensor of size 6]\n",
      "\n"
     ]
    }
   ],
   "source": [
    "# Turn string into list of longs\n",
    "def char_tensor(string):\n",
    "    ## tensor is a array\n",
    "    tensor = torch.zeros(len(string)).long()\n",
    "    for c in range(len(string)):\n",
    "        tensor[c] = all_characters.index(string[c])\n",
    "    return Variable(tensor)\n",
    "\n",
    "print(char_tensor('abcDEF'))"
   ]
  },
  {
   "cell_type": "markdown",
   "metadata": {},
   "source": [
    "Finally we can assemble a pair of input and target tensors for training, from a random chunk. The input will be all characters up to the last, and the target will be all characters from the first. So if our chunk is \"abc\" the input will correspond to \"ab\" while the target is \"bc\"."
   ]
  },
  {
   "cell_type": "code",
   "execution_count": 11,
   "metadata": {},
   "outputs": [],
   "source": [
    "def random_training_set():    \n",
    "    chunk = random_chunk()\n",
    "    inp = char_tensor(chunk[:-1])\n",
    "    target = char_tensor(chunk[1:])\n",
    "    return inp, target"
   ]
  },
  {
   "cell_type": "markdown",
   "metadata": {},
   "source": [
    "#### Evaluating"
   ]
  },
  {
   "cell_type": "markdown",
   "metadata": {},
   "source": [
    "To evaluate the network we will feed one character at a time, use the outputs of the network as a probability distribution for the next character, and repeat. To start generation we pass a priming string to start building up the hidden state, from which we then generate one character at a time.\n",
    "\n"
   ]
  },
  {
   "cell_type": "code",
   "execution_count": 16,
   "metadata": {},
   "outputs": [],
   "source": [
    "### IAS: Whats going on here?\n",
    "\n",
    "def evaluate(prime_str='A', predict_len=100, temperature=0.8):\n",
    "    hidden = decoder.init_hidden()\n",
    "    prime_input = char_tensor(prime_str)\n",
    "    predicted = prime_str\n",
    "\n",
    "    # Use priming string to \"build up\" hidden state\n",
    "    for p in range(len(prime_str) - 1):\n",
    "        _, hidden = decoder(prime_input[p], hidden)\n",
    "    inp = prime_input[-1]\n",
    "    \n",
    "    for p in range(predict_len):\n",
    "        output, hidden = decoder(inp, hidden)\n",
    "        \n",
    "        # Sample from the network as a multinomial distribution\n",
    "        output_dist = output.data.view(-1).div(temperature).exp() ### IAS: Whats this????????????????????\n",
    "        top_i = torch.multinomial(output_dist, 1)[0]\n",
    "        \n",
    "        # Add predicted character to string and use as next input\n",
    "        predicted_char = all_characters[top_i]\n",
    "        predicted += predicted_char\n",
    "        inp = char_tensor(predicted_char)\n",
    "\n",
    "    return predicted"
   ]
  },
  {
   "cell_type": "markdown",
   "metadata": {},
   "source": [
    "#### Training"
   ]
  },
  {
   "cell_type": "markdown",
   "metadata": {},
   "source": [
    "To keep track of how long training takes, we have added a time_since(timestamp) function which returns a human readable string"
   ]
  },
  {
   "cell_type": "code",
   "execution_count": 15,
   "metadata": {},
   "outputs": [],
   "source": [
    "## Importing required packages\n",
    "import time, math\n",
    "## function to print amount of time passed\n",
    "def time_since(since):\n",
    "    s = time.time() - since\n",
    "    m = math.floor(s / 60)\n",
    "    s -= m * 60\n",
    "    return '%dm %ds' % (m, s)"
   ]
  },
  {
   "cell_type": "markdown",
   "metadata": {},
   "source": [
    "#### The main training function"
   ]
  },
  {
   "cell_type": "code",
   "execution_count": 14,
   "metadata": {},
   "outputs": [],
   "source": [
    "def train(inp, target):\n",
    "    hidden = decoder.init_hidden()\n",
    "    decoder.zero_grad()\n",
    "    loss = 0\n",
    "\n",
    "    for c in range(chunk_len):\n",
    "        output, hidden = decoder(inp[c], hidden)\n",
    "        loss += criterion(output, target[c])\n",
    "\n",
    "    loss.backward()\n",
    "    decoder_optimizer.step()\n",
    "\n",
    "    return loss.data[0] / chunk_len"
   ]
  },
  {
   "cell_type": "markdown",
   "metadata": {},
   "source": [
    "Then we define the training parameters, instantiate the model, and start training"
   ]
  },
  {
   "cell_type": "code",
   "execution_count": 17,
   "metadata": {},
   "outputs": [
    {
     "name": "stdout",
     "output_type": "stream",
     "text": [
      "[0m 7s (50 2%) 2.4894]\n",
      "Wh chand gne fot liald my\n",
      "\n",
      "UHYand iseef cord,\n",
      "Nin\n",
      "Sand sheapere gu, hear hu od wo lor yowim howe hen f \n",
      "\n",
      "[0m 15s (100 5%) 2.2483]\n",
      "Whath and and by of lomessce moweze von nantt I the Ror harl thom owe mofrd houd gis the Ie fou bly th \n",
      "\n",
      "[0m 23s (150 7%) 2.1724]\n",
      "Whe onom and no lovere hien, comer not I lou soull so o dor the fou do fay fo ray prading I your, of i \n",
      "\n",
      "[0m 30s (200 10%) 2.1454]\n",
      "Whis my ele.\n",
      "\n",
      "RUCARD\n",
      "EBe's I is and in will dous to the my shinces no the her or.\n",
      "\n",
      "RING RIIHAM:\n",
      "\n",
      "NTARD \n",
      "\n",
      "[0m 38s (250 12%) 2.1599]\n",
      "When, make hatt will, for gater,\n",
      "I me ant be han thy be thee orle, freen and your be'd the par to ; un \n",
      "\n",
      "[0m 46s (300 15%) 2.0421]\n",
      "Whath mes?\n",
      "\n",
      "KING RIIY thing may merust me sean respalind sous manes in the he fort,\n",
      "Thath fore me brak \n",
      "\n",
      "[0m 54s (350 17%) 2.1160]\n",
      "Whly live a I rerinen a the lie,\n",
      "I waemand ner the wolld sive is slot one he proby to ost home her my  \n",
      "\n",
      "[1m 1s (400 20%) 1.8147]\n",
      "Whser fay or me fare for,\n",
      "And nou sefte to faindelf rotail, sils fore?\n",
      "O man, lien:\n",
      "To so we dendest t \n",
      "\n",
      "[1m 9s (450 22%) 2.1550]\n",
      "Whe wome that stis sis amfu\n",
      "And ther, execes your feare word shat now, thifing the whingher: the not w \n",
      "\n",
      "[1m 17s (500 25%) 1.9212]\n",
      "What uming the four thy, whinem\n",
      "Whing might't in inery, cark betleming his in cound reaty whering mere \n",
      "\n",
      "[1m 25s (550 27%) 2.0006]\n",
      "What his be fages forgh the lews gitere.\n",
      "\n",
      "HRENRY RICIA:\n",
      "If go me thinnes the pares thew asing fanous t \n",
      "\n",
      "[1m 32s (600 30%) 1.9960]\n",
      "Wher im that seemast enterge;\n",
      "Thy de lows.\n",
      "This say agal be are this seets;\n",
      "And man that thy my grace  \n",
      "\n",
      "[1m 40s (650 32%) 2.0680]\n",
      "Wh!\n",
      "To dids your me\n",
      "Lale it for more, tarit more, thy son.\n",
      "\n",
      "PETRUTUS:\n",
      "Sope cast it.\n",
      "\n",
      "RICHAfL ather.\n",
      "\n",
      "R \n",
      "\n",
      "[1m 48s (700 35%) 1.8337]\n",
      "Whicem, that for of thear\n",
      "And to mothering thelear and the could you the reath,\n",
      "No with thast the comm \n",
      "\n",
      "[1m 55s (750 37%) 1.9569]\n",
      "Wham it fot.\n",
      "\n",
      "BOBANTIO:\n",
      "An is thou and fore thou spur comes,--natt in for here shall And sold me ford  \n",
      "\n",
      "[2m 3s (800 40%) 1.9761]\n",
      "Whard thate is my;\n",
      "Here not I ponest the reconshorsere do theire dold saine, bend thy my bent are exen \n",
      "\n",
      "[2m 11s (850 42%) 2.0698]\n",
      "Which roon,\n",
      "And who evers sughiess to her for my cude't in full frice.\n",
      "\n",
      "he the the queais, and her he  \n",
      "\n",
      "[2m 18s (900 45%) 2.0310]\n",
      "Wher the chance Parded.\n",
      "So kind whenpure.\n",
      "\n",
      "MAULIO:\n",
      "And thou and I with my and is in knent my whefe him \n",
      "\n",
      "[2m 26s (950 47%) 1.9344]\n",
      "Whiou reads here to with my wake give make evere the\n",
      "EN my a sap and my love with mine of to so not in \n",
      "\n",
      "[2m 34s (1000 50%) 1.9840]\n",
      "Whone attor shall som more\n",
      "Is fat herse rese! O like or whill which uppes.\n",
      "\n",
      "HRANGENTIO:\n",
      "What the not t \n",
      "\n",
      "[2m 41s (1050 52%) 1.6786]\n",
      "Whith his all how my so manathal speair he liding\n",
      "And mus more mess good, I themand beards.\n",
      "\n",
      "WASTALA:\n",
      " \n",
      "\n",
      "[2m 49s (1100 55%) 1.7874]\n",
      "What, wolds enter the melue,\n",
      "For sir you, and, has know dear, fir, furse cord,\n",
      "Thill well been me to d \n",
      "\n",
      "[2m 57s (1150 57%) 1.8255]\n",
      "What will wit rapece,\n",
      "Ay, clan with my workince this wih quie, for loves house! thing on nothered be s \n",
      "\n",
      "[3m 5s (1200 60%) 2.1026]\n",
      "Whto beder lirers\n",
      "Unten dind there where that wes the depades sop my well.\n",
      "\n",
      "POLIXENES:\n",
      "Tell this of th \n",
      "\n",
      "[3m 12s (1250 62%) 1.7522]\n",
      "Where offore his if be defoother dow?\n",
      "\n",
      "PILIUS:\n",
      "Whot for with couter's for for head know he more thine! \n",
      "\n",
      "[3m 20s (1300 65%) 1.5933]\n",
      "What you, sunsles smay,\n",
      "Which nast with forsing it he give any it reford,\n",
      "When parest bet with bewary, \n",
      "\n",
      "[3m 28s (1350 67%) 1.8906]\n",
      "Wher as troffuly, the distred the mind to be\n",
      "ho the dead in these to case:\n",
      "I'll a comies nore that for \n",
      "\n",
      "[3m 35s (1400 70%) 1.8374]\n",
      "What hee sent wind in toul for good more gidser to 's des.\n",
      "\n",
      "COGUTES:\n",
      "I lap, with my sempake,\n",
      "on him th \n",
      "\n",
      "[3m 43s (1450 72%) 1.7320]\n",
      "Whrese you chith my for bucks,\n",
      "And with uster sight itor, lord, but old. Weys all, let stay, me the wi \n",
      "\n",
      "[3m 51s (1500 75%) 1.9111]\n",
      "Whttence menent,\n",
      "If eny to the many fath, tere he his me galts a retedry\n",
      "Lut, the sunce flemar? I tthe \n",
      "\n",
      "[3m 59s (1550 77%) 1.8859]\n",
      "Whall I be-ore come.\n",
      "Gresen shats it shall here shall hour blatters, so to Seever there\n",
      "wou, of least  \n",
      "\n",
      "[4m 6s (1600 80%) 1.7928]\n",
      "Wher or demy,\n",
      "Now, and sam his the lown blest this our let in soul, where.\n",
      "\n",
      "GRIEL:\n",
      "And my some to or o \n",
      "\n",
      "[4m 14s (1650 82%) 1.8460]\n",
      "Where his bewl:\n",
      "O, and a goand out of sort.\n",
      "\n",
      "Claizen the, tardine you Roocks to though,\n",
      "How look my sh \n",
      "\n",
      "[4m 22s (1700 85%) 2.0160]\n",
      "Whttelu shast, you mong:\n",
      "My hose a great your genguell all and is his there:\n",
      "I precare his secpament a \n",
      "\n",
      "[4m 29s (1750 87%) 1.4802]\n",
      "What, love and the fear with you and here in man her say\n",
      "A love offeremn him, and a cuild:\n",
      "The wolk su \n",
      "\n",
      "[4m 37s (1800 90%) 1.7375]\n",
      "Wher, surner befor concome:\n",
      "\n",
      "CORIOLANUS:\n",
      "The meanucit of peadounged chander in one.\n",
      "\n",
      "CLAUDIO:\n",
      "Ay for t \n",
      "\n",
      "[4m 45s (1850 92%) 1.4078]\n",
      "Why, me?\n",
      "\n",
      "LADY CETRIUS:\n",
      "Why, that I house.\n",
      "\n",
      "QUEEN MARGSENIO:\n",
      "Thy queen to him frains.\n",
      "\n",
      "NORKINCIILAS:\n",
      "N \n",
      "\n",
      "[4m 52s (1900 95%) 1.7074]\n",
      "Wht is bury.\n",
      "Well he praty plate will none,\n",
      "And to me are go the rovos;\n",
      "And gond in Heder bus on the l \n",
      "\n",
      "[5m 0s (1950 97%) 1.6429]\n",
      "What sigeen your nours!\n",
      "Lie, your cleat my my night not king.\n",
      "As my his count that I lord; ast my we a \n",
      "\n",
      "[5m 8s (2000 100%) 1.9561]\n",
      "Wht see at death grove doth from they traming.\n",
      "\n",
      "QUEEN EYRY VI:\n",
      "I am yourse, sir, and say, set sen she  \n",
      "\n"
     ]
    }
   ],
   "source": [
    "n_epochs = 2000 #Number of epochs\n",
    "print_every = 50\n",
    "plot_every = 20\n",
    "hidden_size = 100\n",
    "n_layers = 1\n",
    "lr = 0.005\n",
    "\n",
    "decoder = RNN(n_characters, hidden_size, n_characters, n_layers)\n",
    "## Optimizer\n",
    "decoder_optimizer = torch.optim.Adam(decoder.parameters(), lr=lr)\n",
    "## Loss function\n",
    "criterion = nn.CrossEntropyLoss()\n",
    "\n",
    "start = time.time()\n",
    "all_losses = []\n",
    "loss_avg = 0\n",
    "\n",
    "#In this for loop for every 100th iteration we are printing the time taken, loss and the chunk.\n",
    "for epoch in range(1, n_epochs + 1):\n",
    "    loss = train(*random_training_set())       \n",
    "    loss_avg += loss\n",
    "\n",
    "    if epoch % print_every == 0:\n",
    "        print('[%s (%d %d%%) %.4f]' % (time_since(start), epoch, epoch / n_epochs * 100, loss))\n",
    "        print(evaluate('Wh', 100), '\\n')\n",
    "\n",
    "    if epoch % plot_every == 0:\n",
    "        all_losses.append(loss_avg / plot_every)\n",
    "        loss_avg = 0"
   ]
  },
  {
   "cell_type": "code",
   "execution_count": 13,
   "metadata": {},
   "outputs": [],
   "source": [
    "# random_training_set()"
   ]
  },
  {
   "cell_type": "markdown",
   "metadata": {},
   "source": [
    "#### Plotting the Training Losses"
   ]
  },
  {
   "cell_type": "markdown",
   "metadata": {},
   "source": [
    "Plotting the historical loss from all_losses shows the network learning"
   ]
  },
  {
   "cell_type": "code",
   "execution_count": 18,
   "metadata": {},
   "outputs": [
    {
     "data": {
      "text/plain": [
       "Text(0,0.5,'loss')"
      ]
     },
     "execution_count": 18,
     "metadata": {},
     "output_type": "execute_result"
    },
    {
     "data": {
      "image/png": "[encoded data removed]",
      "text/plain": [
       "<matplotlib.figure.Figure at 0x7fd3b7590278>"
      ]
     },
     "metadata": {},
     "output_type": "display_data"
    }
   ],
   "source": [
    "import matplotlib.pyplot as plt\n",
    "import matplotlib.ticker as ticker\n",
    "%matplotlib inline\n",
    "\n",
    "plt.figure()\n",
    "plt.plot(all_losses)\n",
    "plt.xlabel(\"epoch\")\n",
    "plt.ylabel(\"loss\")"
   ]
  },
  {
   "cell_type": "markdown",
   "metadata": {},
   "source": [
    "#### Adapting or tuning for prose writing"
   ]
  },
  {
   "cell_type": "markdown",
   "metadata": {},
   "source": [
    "In the evaluate function above, every time a prediction is made the outputs are divided by the \"temperature\" argument passed. Using a higher number makes all actions more equally likely, and thus gives us \"more random\" outputs. Using a lower value (less than 1) makes high probabilities contribute more. As we turn the temperature towards zero we are choosing only the most likely outputs.\n"
   ]
  },
  {
   "cell_type": "markdown",
   "metadata": {},
   "source": [
    "We can see the effects of this by adjusting the temperature argument."
   ]
  },
  {
   "cell_type": "code",
   "execution_count": 19,
   "metadata": {},
   "outputs": [
    {
     "name": "stdout",
     "output_type": "stream",
     "text": [
      "utus be speak signe\n",
      "And let thy lost to you, boy be the's fied\n",
      "Hall heard the made a pring of the with prood of to this appity\n",
      "To be gadon's of there sever's the shall seaves save tade of I shall fortu\n"
     ]
    }
   ],
   "source": [
    "print(evaluate('u', 200, temperature=0.8))"
   ]
  },
  {
   "cell_type": "markdown",
   "metadata": {},
   "source": [
    "Lower temperatures are less varied, choosing only the more probable outputs:"
   ]
  },
  {
   "cell_type": "code",
   "execution_count": 20,
   "metadata": {},
   "outputs": [
    {
     "name": "stdout",
     "output_type": "stream",
     "text": [
      "That the shall the shall the son the she should see the shall the should\n",
      "And the so the shall the shall the shall the she the shall the sone the she she shall the the shall the shall the son.\n",
      "\n",
      "GLOUCESTE\n"
     ]
    }
   ],
   "source": [
    "print(evaluate('Th', 200, temperature=0.2))"
   ]
  },
  {
   "cell_type": "markdown",
   "metadata": {},
   "source": [
    "\n",
    "Higher temperatures more varied, choosing less probable outputs:"
   ]
  },
  {
   "cell_type": "code",
   "execution_count": 21,
   "metadata": {},
   "outputs": [
    {
     "name": "stdout",
     "output_type": "stream",
     "text": [
      "how!\n",
      "Oraflevef, vist tenions, sebie.; your about tigser:\n",
      "My lorms am Kowby fefcom, likes udoss ForweNef-tilein ifrne,\n",
      "A ttime tall-burdiengcer, eno'll besiriol\n",
      "AgL downos, 'I givetmys cam! olds alab my b\n"
     ]
    }
   ],
   "source": [
    "print(evaluate('how', 200, temperature=1.4))"
   ]
  },
  {
   "cell_type": "markdown",
   "metadata": {},
   "source": [
    "# Exercise 1:\n",
    "\n",
    "Change the number of epochs to 1000. Calculate the time taken and loss."
   ]
  },
  {
   "cell_type": "markdown",
   "metadata": {},
   "source": [
    "# Exercise 2:\n",
    "\n",
    "Change the print every to 50 and plot every to 20. Calculate the time taken and loss and plot the loss graph"
   ]
  },
  {
   "cell_type": "code",
   "execution_count": null,
   "metadata": {},
   "outputs": [],
   "source": []
  }
 ],
 "metadata": {
  "kernelspec": {
   "display_name": "Python 3",
   "language": "python",
   "name": "python3"
  },
  "language_info": {
   "codemirror_mode": {
    "name": "ipython",
    "version": 3
   },
   "file_extension": ".py",
   "mimetype": "text/x-python",
   "name": "python",
   "nbconvert_exporter": "python",
   "pygments_lexer": "ipython3",
   "version": "3.5.2"
  }
 },
 "nbformat": 4,
 "nbformat_minor": 2
}
