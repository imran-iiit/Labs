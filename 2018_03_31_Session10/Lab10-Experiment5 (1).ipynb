<!DOCTYPE html>
<html class="ng-csp" data-placeholder-focus="false" lang="en" >
	<head data-requesttoken="CQ1+diE0JgBRVwVAJAUrPQxlBVARD1I0JVYfQjUiEBY=:sn42oDU0zcVwQMIhURp5vu1eTcK+vzTFA6SFVR8DkQ4=">
		<meta charset="utf-8">
		<title>
		ownCloud		</title>
		<meta http-equiv="X-UA-Compatible" content="IE=edge">
		<meta name="referrer" content="never">
		<meta name="viewport" content="width=device-width, minimum-scale=1.0, maximum-scale=1.0">
		<meta name="apple-itunes-app" content="app-id=543672169">
		<meta name="theme-color" content="#1d2d44">
		<link rel="icon" href="/core/img/favicon.ico">
		<link rel="apple-touch-icon-precomposed" href="/core/img/favicon-touch.png">
		<link rel="mask-icon" sizes="any" href="/core/img/favicon-mask.svg" color="#1d2d44">
					<link rel="stylesheet" href="/core/css/styles.css?v=9fd1653d9f9011a6f005581b39f13da2">
					<link rel="stylesheet" href="/core/css/inputs.css?v=9fd1653d9f9011a6f005581b39f13da2">
					<link rel="stylesheet" href="/core/css/header.css?v=9fd1653d9f9011a6f005581b39f13da2">
					<link rel="stylesheet" href="/core/css/icons.css?v=9fd1653d9f9011a6f005581b39f13da2">
					<link rel="stylesheet" href="/core/css/fonts.css?v=9fd1653d9f9011a6f005581b39f13da2">
					<link rel="stylesheet" href="/core/css/apps.css?v=9fd1653d9f9011a6f005581b39f13da2">
					<link rel="stylesheet" href="/core/css/global.css?v=9fd1653d9f9011a6f005581b39f13da2">
					<link rel="stylesheet" href="/core/css/fixes.css?v=9fd1653d9f9011a6f005581b39f13da2">
					<link rel="stylesheet" href="/core/css/multiselect.css?v=9fd1653d9f9011a6f005581b39f13da2">
					<link rel="stylesheet" href="/core/css/mobile.css?v=9fd1653d9f9011a6f005581b39f13da2">
					<link rel="stylesheet" href="/core/vendor/jquery-ui/themes/base/jquery-ui.css?v=9fd1653d9f9011a6f005581b39f13da2">
					<link rel="stylesheet" href="/core/css/jquery-ui-fixes.css?v=9fd1653d9f9011a6f005581b39f13da2">
					<link rel="stylesheet" href="/core/css/tooltip.css?v=9fd1653d9f9011a6f005581b39f13da2">
					<link rel="stylesheet" href="/core/css/jquery.ocdialog.css?v=9fd1653d9f9011a6f005581b39f13da2">
									<script src="/core/js/oc.js?v=9fd1653d9f9011a6f005581b39f13da2"></script>
					<script src="/core/vendor/jquery/dist/jquery.min.js?v=9fd1653d9f9011a6f005581b39f13da2"></script>
					<script src="/core/vendor/jquery-migrate/jquery-migrate.min.js?v=9fd1653d9f9011a6f005581b39f13da2"></script>
					<script src="/core/vendor/jquery-ui/ui/jquery-ui.custom.js?v=9fd1653d9f9011a6f005581b39f13da2"></script>
					<script src="/core/vendor/underscore/underscore.js?v=9fd1653d9f9011a6f005581b39f13da2"></script>
					<script src="/core/vendor/moment/min/moment-with-locales.js?v=9fd1653d9f9011a6f005581b39f13da2"></script>
					<script src="/core/vendor/handlebars/handlebars.js?v=9fd1653d9f9011a6f005581b39f13da2"></script>
					<script src="/core/vendor/blueimp-md5/js/md5.js?v=9fd1653d9f9011a6f005581b39f13da2"></script>
					<script src="/core/vendor/bootstrap/js/tooltip.js?v=9fd1653d9f9011a6f005581b39f13da2"></script>
					<script src="/core/vendor/backbone/backbone.js?v=9fd1653d9f9011a6f005581b39f13da2"></script>
					<script src="/core/vendor/es6-promise/dist/es6-promise.js?v=9fd1653d9f9011a6f005581b39f13da2"></script>
					<script src="/core/vendor/davclient.js/lib/client.js?v=9fd1653d9f9011a6f005581b39f13da2"></script>
					<script src="/core/vendor/clipboard/dist/clipboard.js?v=9fd1653d9f9011a6f005581b39f13da2"></script>
					<script src="/core/vendor/bowser/src/bowser.js?v=9fd1653d9f9011a6f005581b39f13da2"></script>
					<script src="/core/js/jquery.ocdialog.js?v=9fd1653d9f9011a6f005581b39f13da2"></script>
					<script src="/core/js/oc-dialogs.js?v=9fd1653d9f9011a6f005581b39f13da2"></script>
					<script src="/core/js/js.js?v=9fd1653d9f9011a6f005581b39f13da2"></script>
					<script src="/core/js/l10n.js?v=9fd1653d9f9011a6f005581b39f13da2"></script>
					<script src="/core/js/octemplate.js?v=9fd1653d9f9011a6f005581b39f13da2"></script>
					<script src="/core/js/eventsource.js?v=9fd1653d9f9011a6f005581b39f13da2"></script>
					<script src="/core/js/config.js?v=9fd1653d9f9011a6f005581b39f13da2"></script>
					<script src="/core/search/js/search.js?v=9fd1653d9f9011a6f005581b39f13da2"></script>
					<script src="/core/js/oc-requesttoken.js?v=9fd1653d9f9011a6f005581b39f13da2"></script>
					<script src="/core/js/apps.js?v=9fd1653d9f9011a6f005581b39f13da2"></script>
					<script src="/core/js/mimetype.js?v=9fd1653d9f9011a6f005581b39f13da2"></script>
					<script src="/core/js/mimetypelist.js?v=9fd1653d9f9011a6f005581b39f13da2"></script>
					<script src="/core/vendor/snapjs/dist/latest/snap.js?v=9fd1653d9f9011a6f005581b39f13da2"></script>
					<script src="/core/js/oc-backbone.js?v=9fd1653d9f9011a6f005581b39f13da2"></script>
					<script src="/core/js/placeholder.js?v=9fd1653d9f9011a6f005581b39f13da2"></script>
					<script src="/core/js/jquery.avatar.js?v=9fd1653d9f9011a6f005581b39f13da2"></script>
					<script src="/core/js/files/fileinfo.js?v=9fd1653d9f9011a6f005581b39f13da2"></script>
					<script src="/core/js/files/client.js?v=9fd1653d9f9011a6f005581b39f13da2"></script>
					</head>
	<body id="body-login">
		<noscript>
	<div id="nojavascript">
		<div>
			This application requires JavaScript for correct operation. Please <a href="http://enable-javascript.com/" target="_blank" rel="noreferrer">enable JavaScript</a> and reload the page.		</div>
	</div>
</noscript>
		<div class="wrapper">
			<div class="v-align">
									<header role="banner">
						<div id="header">
							<div class="logo">
								<h1 class="hidden-visually">
									ownCloud								</h1>
							</div>
							<div id="logo-claim" style="display:none;"></div>
						</div>
					</header>
								<ul>
	<li class='error'>
		Access forbidden<br>
		<p class='hint'></p>
	</li>
</ul>
				<div class="push"></div><!-- for sticky footer -->
			</div>
		</div>
		<footer role="contentinfo">
			<p class="info">
				<a href="https://owncloud.org" target="_blank" rel="noreferrer">ownCloud</a> – A safe home for all your data			</p>
		</footer>
	</body>
</html>
