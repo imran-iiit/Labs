{
 "cells": [
  {
   "cell_type": "markdown",
   "metadata": {},
   "source": [
    "# Foundations of AI & ML\n",
    "## Session 07\n",
    "### CaseStudy 1\n",
    "### Lab\n",
    "\n",
    "**Objectives:** Create a non-linear regression based product rating solution.\n"
   ]
  },
  {
   "cell_type": "code",
   "execution_count": 1,
   "metadata": {},
   "outputs": [
    {
     "name": "stdout",
     "output_type": "stream",
     "text": [
      "         Unnamed: 0        ratings\n",
      "count  167597.00000  167597.000000\n",
      "mean    83798.00000       4.356307\n",
      "std     48381.23087       0.993501\n",
      "min         0.00000       1.000000\n",
      "25%     41899.00000       4.000000\n",
      "50%     83798.00000       5.000000\n",
      "75%    125697.00000       5.000000\n",
      "max    167596.00000       5.000000\n",
      "          Unnamed: 0        ratings\n",
      "count  167504.000000  167504.000000\n",
      "mean    83798.019253       4.356427\n",
      "std     48380.619090       0.993334\n",
      "min         0.000000       1.000000\n",
      "25%     41899.750000       4.000000\n",
      "50%     83795.500000       5.000000\n",
      "75%    125699.250000       5.000000\n",
      "max    167596.000000       5.000000\n"
     ]
    }
   ],
   "source": [
    "import pandas as pd\n",
    "data = pd.read_csv(\"../Datasets/amazon_reviews.csv\")\n",
    "print(data.describe())\n",
    "data = data.dropna()\n",
    "print(data.describe())"
   ]
  },
  {
   "cell_type": "code",
   "execution_count": 2,
   "metadata": {},
   "outputs": [
    {
     "data": {
      "text/html": [
       "<div>\n",
       "<style scoped>\n",
       "    .dataframe tbody tr th:only-of-type {\n",
       "        vertical-align: middle;\n",
       "    }\n",
       "\n",
       "    .dataframe tbody tr th {\n",
       "        vertical-align: top;\n",
       "    }\n",
       "\n",
       "    .dataframe thead th {\n",
       "        text-align: right;\n",
       "    }\n",
       "</style>\n",
       "<table border=\"1\" class=\"dataframe\">\n",
       "  <thead>\n",
       "    <tr style=\"text-align: right;\">\n",
       "      <th></th>\n",
       "      <th>Unnamed: 0</th>\n",
       "      <th>reviews</th>\n",
       "      <th>ratings</th>\n",
       "    </tr>\n",
       "  </thead>\n",
       "  <tbody>\n",
       "    <tr>\n",
       "      <th>0</th>\n",
       "      <td>0</td>\n",
       "      <td>I like the item pricing. My granddaughter want...</td>\n",
       "      <td>5.0</td>\n",
       "    </tr>\n",
       "    <tr>\n",
       "      <th>1</th>\n",
       "      <td>1</td>\n",
       "      <td>Love the magnet easel... great for moving to d...</td>\n",
       "      <td>4.0</td>\n",
       "    </tr>\n",
       "    <tr>\n",
       "      <th>2</th>\n",
       "      <td>2</td>\n",
       "      <td>Both sides are magnetic.  A real plus when you...</td>\n",
       "      <td>5.0</td>\n",
       "    </tr>\n",
       "    <tr>\n",
       "      <th>3</th>\n",
       "      <td>3</td>\n",
       "      <td>Bought one a few years ago for my daughter and...</td>\n",
       "      <td>5.0</td>\n",
       "    </tr>\n",
       "    <tr>\n",
       "      <th>4</th>\n",
       "      <td>4</td>\n",
       "      <td>I have a stainless steel refrigerator therefor...</td>\n",
       "      <td>4.0</td>\n",
       "    </tr>\n",
       "  </tbody>\n",
       "</table>\n",
       "</div>"
      ],
      "text/plain": [
       "   Unnamed: 0                                            reviews  ratings\n",
       "0           0  I like the item pricing. My granddaughter want...      5.0\n",
       "1           1  Love the magnet easel... great for moving to d...      4.0\n",
       "2           2  Both sides are magnetic.  A real plus when you...      5.0\n",
       "3           3  Bought one a few years ago for my daughter and...      5.0\n",
       "4           4  I have a stainless steel refrigerator therefor...      4.0"
      ]
     },
     "execution_count": 2,
     "metadata": {},
     "output_type": "execute_result"
    }
   ],
   "source": [
    "data.head()"
   ]
  },
  {
   "cell_type": "code",
   "execution_count": 3,
   "metadata": {},
   "outputs": [
    {
     "data": {
      "text/html": [
       "<div>\n",
       "<style scoped>\n",
       "    .dataframe tbody tr th:only-of-type {\n",
       "        vertical-align: middle;\n",
       "    }\n",
       "\n",
       "    .dataframe tbody tr th {\n",
       "        vertical-align: top;\n",
       "    }\n",
       "\n",
       "    .dataframe thead th {\n",
       "        text-align: right;\n",
       "    }\n",
       "</style>\n",
       "<table border=\"1\" class=\"dataframe\">\n",
       "  <thead>\n",
       "    <tr style=\"text-align: right;\">\n",
       "      <th></th>\n",
       "      <th>Unnamed: 0</th>\n",
       "      <th>reviews</th>\n",
       "      <th>ratings</th>\n",
       "    </tr>\n",
       "  </thead>\n",
       "  <tbody>\n",
       "    <tr>\n",
       "      <th>167592</th>\n",
       "      <td>167592</td>\n",
       "      <td>This drone is very fun and super duarable. Its...</td>\n",
       "      <td>5.0</td>\n",
       "    </tr>\n",
       "    <tr>\n",
       "      <th>167593</th>\n",
       "      <td>167593</td>\n",
       "      <td>This is my brother's most prized toy. It's ext...</td>\n",
       "      <td>5.0</td>\n",
       "    </tr>\n",
       "    <tr>\n",
       "      <th>167594</th>\n",
       "      <td>167594</td>\n",
       "      <td>This Panther Drone toy is awesome. I definitel...</td>\n",
       "      <td>5.0</td>\n",
       "    </tr>\n",
       "    <tr>\n",
       "      <th>167595</th>\n",
       "      <td>167595</td>\n",
       "      <td>This is my first drone and it has proven to be...</td>\n",
       "      <td>5.0</td>\n",
       "    </tr>\n",
       "    <tr>\n",
       "      <th>167596</th>\n",
       "      <td>167596</td>\n",
       "      <td>This is a super fun toy to have around. In our...</td>\n",
       "      <td>4.0</td>\n",
       "    </tr>\n",
       "  </tbody>\n",
       "</table>\n",
       "</div>"
      ],
      "text/plain": [
       "        Unnamed: 0                                            reviews  ratings\n",
       "167592      167592  This drone is very fun and super duarable. Its...      5.0\n",
       "167593      167593  This is my brother's most prized toy. It's ext...      5.0\n",
       "167594      167594  This Panther Drone toy is awesome. I definitel...      5.0\n",
       "167595      167595  This is my first drone and it has proven to be...      5.0\n",
       "167596      167596  This is a super fun toy to have around. In our...      4.0"
      ]
     },
     "execution_count": 3,
     "metadata": {},
     "output_type": "execute_result"
    }
   ],
   "source": [
    "data.tail()"
   ]
  },
  {
   "cell_type": "code",
   "execution_count": 2,
   "metadata": {},
   "outputs": [],
   "source": [
    "ratings = data['ratings'].values\n",
    "reviews = data['reviews'].values\n",
    "lengths = [len(r) for r in reviews]"
   ]
  },
  {
   "cell_type": "code",
   "execution_count": 5,
   "metadata": {},
   "outputs": [],
   "source": [
    "### TODO DEBUGGING DEBUGGING\n",
    "\n",
    "# ratings = ratings[:2000]\n",
    "# reviews = reviews[:2000]\n",
    "# lengths = [len(r) for r in reviews]"
   ]
  },
  {
   "cell_type": "markdown",
   "metadata": {},
   "source": [
    "#### We first preprocess the data by removing all the incorrect rows (that have missing rating or reviews), unwanted columns, removing stopwords and soon."
   ]
  },
  {
   "cell_type": "code",
   "execution_count": 3,
   "metadata": {},
   "outputs": [],
   "source": [
    "import re\n",
    "only_alnum = re.compile(r\"[^a-z0-9]+\")\n",
    "## Replaces one or more occurrence of any characters other than a-z and 0-9 with a space\n",
    "## This automatically replaces multiple spaces by 1 space\n",
    "\n",
    "## The try ... except ensures that if a review is mal-formed then the review is replaced with the word ERROR\n",
    "def cleanUp(s):\n",
    "    return re.sub(only_alnum, \" \", s.lower())"
   ]
  },
  {
   "cell_type": "code",
   "execution_count": 4,
   "metadata": {},
   "outputs": [],
   "source": [
    "## We make a set for testing if a word is not useful\n",
    "## sets are way faster than lists for this purpose\n",
    "fluff = set([w.strip() for w in open(\"../Datasets/fluff.txt\")])"
   ]
  },
  {
   "cell_type": "code",
   "execution_count": 8,
   "metadata": {},
   "outputs": [
    {
     "data": {
      "text/plain": [
       "['anything',\n",
       " 'down',\n",
       " 'perhaps',\n",
       " 'making',\n",
       " 'something',\n",
       " 'year',\n",
       " 'known',\n",
       " 'became',\n",
       " 'present',\n",
       " 'here']"
      ]
     },
     "execution_count": 8,
     "metadata": {},
     "output_type": "execute_result"
    }
   ],
   "source": [
    "list(fluff)[:10]"
   ]
  },
  {
   "cell_type": "code",
   "execution_count": 5,
   "metadata": {},
   "outputs": [
    {
     "name": "stdout",
     "output_type": "stream",
     "text": [
      "cool\n",
      "amaazzing\n",
      "cool\n"
     ]
    }
   ],
   "source": [
    "## Replace words like coooooool with cool, amaaaaaazing with amaazing and so on\n",
    "def dedup(s):\n",
    "    return re.sub(r'([a-z])\\1+', r'\\1\\1', s)\n",
    "print(dedup(\"cooooool\"))\n",
    "print(dedup(\"amaaaaaazzzzing\"))\n",
    "print(dedup('cool'))"
   ]
  },
  {
   "cell_type": "code",
   "execution_count": 6,
   "metadata": {},
   "outputs": [],
   "source": [
    "def get_useful_words(s):\n",
    "    return [dedup(w) for w in cleanUp(s).split() if len(w) > 2 and w not in fluff]"
   ]
  },
  {
   "cell_type": "code",
   "execution_count": 7,
   "metadata": {
    "scrolled": true
   },
   "outputs": [
    {
     "name": "stdout",
     "output_type": "stream",
     "text": [
      " 100 I like the item pricing. My granddaughter wanted to mark on it but I wanted it just for the letters. \n",
      "==> ['like', 'item', 'pricing', 'granddaughter', 'mark', 'letters']\n",
      " 121 Love the magnet easel... great for moving to different areas... Wish it had some sort of non skid pad on bottom though... \n",
      "==> ['love', 'magnet', 'easel', 'great', 'moving', 'wish', 'sort', 'skid', 'pad', 'bottom']\n",
      " 420 Both sides are magnetic.  A real plus when you're entertaining more than one child.  The four-year old can find the letters for the words, while the two-year old can find the pictures the words spell.  (I bought letters and magnetic pictures to go with this board).  Both grandkids liked it a lot, which means I like it a lot as well.  Have not even introduced markers, as this will be used strictly as a magnetic board. \n",
      "==> ['magnetic', 'real', 'plus', 'entertaining', 'more', 'child', 'letters', 'words', 'pictures', 'words', 'spell', 'bought', 'letters', 'magnetic', 'pictures', 'board', 'grandkids', 'liked', 'lot', 'means', 'like', 'lot', 'introduced', 'markers', 'strictly', 'magnetic', 'board']\n",
      " 149 Bought one a few years ago for my daughter and she loves it, still using it today. For the holidays we bought one for our niece and she loved it too. \n",
      "==> ['bought', 'few', 'ago', 'daughter', 'loves', 'using', 'holidays', 'bought', 'niece', 'loved']\n",
      " 244 I have a stainless steel refrigerator therefore there are not much space for my son to play with his magnet. Brought this for him to put his magnet on. He enjoys sticking his magnet on it. Great to have so he can play with his alphabet magnets. \n",
      "==> ['stainless', 'steel', 'refrigerator', 'space', 'son', 'play', 'magnet', 'brought', 'magnet', 'enjoys', 'sticking', 'magnet', 'great', 'play', 'alphabet', 'magnets']\n"
     ]
    }
   ],
   "source": [
    "clean_reviews = [get_useful_words(review) for review in reviews]\n",
    "for i in range(5):\n",
    "    print(\"%4d\" %(len(reviews[i])), reviews[i], \"\\n==>\", clean_reviews[i])"
   ]
  },
  {
   "cell_type": "code",
   "execution_count": 8,
   "metadata": {},
   "outputs": [
    {
     "name": "stdout",
     "output_type": "stream",
     "text": [
      "(['blanket', 'puppet', 'cute', 'little', 'girl', 'love', 'soft', 'cuddly', 'recommend'], 5.0, 132)\n",
      "(['surprised', 'likes', 'educational', 'toy', 'brought', 'tell', 'home', 'school', 'kids', 'love', 'getting', 'hands', 'squishy', 'organs', 'kit', 'comes', 'plastic', 'body', 'skeleton', 'snaps', 'skeleton', 'probably', 'most', 'delicate', 'model', 'held', 'little', 'protruding', 'pieces', 'plastic', 'snap', 'holes', 'skin', 'suggest', 'hard', 'pieces', 'few', 'times', 'loosen', 'kids', 'own', 'little', 'nubs', 'broke', 'ours', 'luckily', 'wasn', 'piece', 'stays', 'organs', 'similar', 'material', 'thesesticky', 'hands', 'expect', 'squishy', 'pick', 'dirt', 'easily', 'wash', 'soap', 'water', 'squeezablity', 'organs', 'biggest', 'draw', 'toy', 'among', 'kids', 'interested', 'questions', 'human', 'body', 'book', 'included', 'kit', 'takes', 'kids', 'step', 'step', 'dissection', 'process', 'using', 'kit', 'forceps', 'tweezers', 'kids', 'expected', 'apart', 'body', 'organs', 'enclosed', 'chart', 'book', 'snapshot', 'step', 'goes', 'describe', 'function', 'book', 'written', 'kids', 'read', 'themselves', 'brightly', 'colored', 'pictures', 'lots', 'labels', 'relate', 'kids', 'phonetic', 'pronunciation', 'follows', 'more', 'complex', 'terms', 'alveoli', 'vee', 'lie', 'includes', 'few', 'gross', 'alerts', 'scabs', 'zits', 'book', 'instructions', 'illustrations', 'putting', 'body', 'save', 'piece', 'plastic', 'film', 'originally', 'held', 'organs', 'model', 'comes', 'stand', 'display', 'body', 'upright', 'position', 'organs', 'tendency', 'start', 'oozing', 'abdominal', 'tucked', 'piece', 'plastic', 'wrap', 'body', 'snapped', 'front', 'skin'], 4.0, 2198)\n",
      "(['suppose', 'guys', 'more', 'fun', 'ability', 'interact', 'more', 'cute', 'changes', 'personality', 'frequently', 'personal', 'interaction', 'probably', 'buy'], 3.0, 218)\n",
      "(['daughter', 'loved', 'loved', 'loved', 'doll', 'first', 'christmas', 'morning', 'smile', 'ear', 'ear', 'monster', 'high', 'dolls', 'fantastic', 'girls', 'enjoy', 'more', 'barbies'], 5.0, 250)\n",
      "(['pretty', 'good', 'figure', 'jor', 'steel', 'armor', 'nicely', 'sculpted', 'detailed', 'undersuit', 'armor', 'like', 'superman', 'good', 'articulation', 'shoulder', 'pads', 'somewhat', 'restrict', 'range', 'movement', 'shoulders', 'like', 'previous', 'reviewer', 'figures', 'more', 'adult', 'collectors', 'don', 'hold', 'kids', 'played', 'comes', 'display', 'stand', 'rest', 'movie', 'masters', 'figures', 'line', 'hope', 'family', 'crest', 'doesn', 'cape', 'movie', 'actually', 'wearing', 'cape', 'armor', 'overall', 'pretty', 'good', 'figure', 'fan', 'steel', 'recommend'], 4.0, 757)\n",
      "(['curious', 'george', 'gund', 'excellent', 'size', 'excellent', 'quality', 'soft', 'curious', 'george', 'highly', 'recommend', 'doll'], 5.0, 139)\n",
      "(['grandson', 'loved', 'rescue', 'bots', 'price', 'reasonable', 'item', 'received', 'listed', 'purchase'], 5.0, 137)\n",
      "(['son', 'half', 'bought', 'pool', 'loved', 'few', 'tossed', 'few', 'good', 'ones', 'comfortably', 'sat', 'adults', 'swim', 'toddler', 'forevor', 'water', 'warm', 'suggested', 'using', 'fitted', 'mattress', 'cover', 'heavy', 'rain', 'definitely', 'pump', 'blow', 'drain', 'empty', 'stupid', 'impossible', 'party', 'event', 'don', 'consider', 'investment', 'happy', 'definitely', 'seeking', 'drained'], 3.0, 644)\n",
      "(['daughter', 'enjoyed', 'creating', 'craft', 'pillow', 'pretty', 'simple', 'project', 'craft', 'currently', 'caught', 'therainbow', 'loomcraze', 'materials', 'easy', 'punch', 'complete', 'looks', 'like', 'photos', '4x6', 'photo', 'fits', 'perfectly', 'frame', 'daughter', 'sleeps', 'bed', 'mind', 'decorative', 'pillow', 'small', 'child', 'won', 'actually', 'sleep', 'orb', 'factory', 'craft', 'pillow', 'neat', 'little', 'girl', 'pass', 'time', 'product', 'looks', 'great', 'unlike', 'crafts', 'fail', 'live', 'photos', 'difficult', 'poorly', 'daughter', 'like', 'thebutterfly', 'pillow'], 4.0, 828)\n",
      "(['larger', 'globe', 'puzzle', 'ball', 'fun', 'idea', 'more', 'difficult', 'pattern', 'lots', 'gold', 'filigree', 'pattern', 'challenge', 'assemble', 'son', 'hours', 'faster', 'using', 'system', 'inside', 'piece', 'pattern', 'instead', 'pieces', 'heavy', 'plastic', 'holds', 'firmly', 'plastic', 'stand', 'finished', 'puzzle', 'display', 'graphics', 'nice', 'bright', 'detailed', 'smaller', 'fun', 'puzzle', 'ball', 'great', 'company'], 5.0, 608)\n"
     ]
    }
   ],
   "source": [
    "final_reviews = list(zip(clean_reviews, ratings, lengths))\n",
    "#We look at a Random sample of 10 cleaned data.\n",
    "import random\n",
    "for i in range(10):\n",
    "    r = random.randrange(0, len(final_reviews))\n",
    "    print(final_reviews[r])"
   ]
  },
  {
   "cell_type": "code",
   "execution_count": null,
   "metadata": {},
   "outputs": [],
   "source": [
    "# clean_reviews[:5], lengths[:5]"
   ]
  },
  {
   "cell_type": "markdown",
   "metadata": {},
   "source": [
    "** Case-Study:** Use the list of substantive words extracted from the Review as well as the length of the original Review. Decide how you would like to Derive a feature set to predict the Rating, which is a float (1.0 to 5.0).\n",
    "\n",
    "Remember to split the Data into training, testing and Validation sets.\n",
    "1. Select 10% of the Data for testing and put it away.\n",
    "2. Select 20% of the Data for Validation and 70% for Training.\n",
    "3. Vary the above ratio between Validation and Testing: 30 - 60, 45 - 45, 60 - 30 and Verify the effect if any on the prediction accuracy.\n",
    "\n",
    "\n",
    "Some Possibilities:\n",
    "\n",
    "1. You can use a single feature namely, the difference between number of Positive & Negative words. \n",
    "\n",
    "2. You can also considering predicting the rating based on the above difference and add the length of the Review as two independent Variables.\n",
    "\n",
    "3. You could consider the Positive Words and Negative Words as two independent Variables rather than treating their difference as single independent Variable, giving you more possibilities.\n"
   ]
  },
  {
   "cell_type": "code",
   "execution_count": 9,
   "metadata": {},
   "outputs": [],
   "source": [
    "import numpy as np\n",
    "\n",
    "POSITIVE_WORDS = pd.read_csv('../Datasets/positive-words.txt').values\n",
    "NEGATIVE_WORDS =  pd.read_csv('../Datasets/negative-words.txt').values\n",
    "\n",
    "def get_positive_words(review):\n",
    "    count = 0\n",
    "    for w in review:\n",
    "        if w in POSITIVE_WORDS:\n",
    "            count += 1\n",
    "    return count\n",
    "\n",
    "def get_negative_words(review):\n",
    "    count = 0\n",
    "    for w in review:\n",
    "        if w in NEGATIVE_WORDS:\n",
    "            count += 1\n",
    "    return count\n",
    "\n",
    "positives = np.array([get_positive_words(review) for review in clean_reviews])\n",
    "negatives = np.array([get_negative_words(review) for review in clean_reviews])\n",
    "differences = positives - negatives"
   ]
  },
  {
   "cell_type": "code",
   "execution_count": null,
   "metadata": {},
   "outputs": [],
   "source": [
    "# clean_reviews[:5], positives[:5]\n",
    "\n",
    "\n",
    "positives[:15], negatives[:15], differences[:15]"
   ]
  },
  {
   "cell_type": "code",
   "execution_count": null,
   "metadata": {},
   "outputs": [],
   "source": [
    "from sklearn.utils import shuffle\n",
    "\n",
    "clean_reviews, positives, negatives, differences, lengths, ratings \\\n",
    "        = shuffle(clean_reviews, positives, negatives, differences, lengths, ratings)\n"
   ]
  },
  {
   "cell_type": "code",
   "execution_count": null,
   "metadata": {},
   "outputs": [],
   "source": [
    "differences[:3]"
   ]
  },
  {
   "cell_type": "code",
   "execution_count": null,
   "metadata": {},
   "outputs": [],
   "source": [
    "TRAIN_RATIO = .8\n",
    "VAL_RATIO   = .1\n",
    "TEST_RATIO  = .1\n",
    "\n",
    "TOTAL = len(clean_reviews)"
   ]
  },
  {
   "cell_type": "code",
   "execution_count": null,
   "metadata": {},
   "outputs": [],
   "source": [
    "# Select train/val/test sets based on the case study\n",
    "\n",
    "# Difference as feature data \n",
    "def get_train_test_split(data, target, TRAIN_RATIO=.8):\n",
    "    X_train = data[ : int(TRAIN_RATIO * TOTAL)]\n",
    "    y_train = target[ : int(TRAIN_RATIO * TOTAL)]\n",
    "    X_test  = data[int(TRAIN_RATIO * TOTAL) : ]\n",
    "    y_test  = target[int(TRAIN_RATIO * TOTAL) : ]\n",
    "    \n",
    "    return X_train, y_train, X_test, y_test\n"
   ]
  },
  {
   "cell_type": "code",
   "execution_count": null,
   "metadata": {},
   "outputs": [],
   "source": [
    "# use SVM?\n",
    "# MLP ? see caseStudy2\n",
    "\n",
    "from sklearn.neural_network import MLPRegressor\n",
    "clf = MLPRegressor(\n",
    "    hidden_layer_sizes=(10,),  activation='relu', solver='adam', alpha=0.0001, batch_size=4,\n",
    "    learning_rate='adaptive',learning_rate_init=0.001, power_t=0.5, max_iter=1000, shuffle=False,\n",
    "    random_state=2, tol=0.0001, verbose=False, warm_start=False, momentum=0.9, nesterovs_momentum=True,\n",
    "    early_stopping=False, validation_fraction=0.1, beta_1=0.9, beta_2=0.999, epsilon=1e-08)\n"
   ]
  },
  {
   "cell_type": "code",
   "execution_count": null,
   "metadata": {},
   "outputs": [],
   "source": [
    "from sklearn.metrics import accuracy_score\n",
    "\n",
    "def train_and_predict(X_train, y_train, X_test, y_test):\n",
    "    if len(X_train.shape) == 1: # For single feature data\n",
    "        X_train = X_train.reshape(-1, 1)\n",
    "    y_train = y_train.reshape(-1, 1)\n",
    "    clf.fit(X_train, y_train)\n",
    "    print(clf.coefs_)\n",
    "\n",
    "    # Make predictions using the testing set\n",
    "    from sklearn.metrics import mean_squared_error\n",
    "    if len(X_test.shape) == 1:\n",
    "        X_test = X_test.reshape(-1, 1)\n",
    "    y_test = y_test.reshape(-1, 1)\n",
    "    y_pred = clf.predict(X_test)\n",
    "    # The mean squared error\n",
    "    print(\"Mean squared error: %.2f\" % mean_squared_error(y_test, y_pred))\n",
    "    print(\"Mean squared error: %.2f\" % accuracy_score(y_test, np.round(y_pred))) # round() to get a decent idea of accuracy\n",
    "    \n",
    "    return y_pred"
   ]
  },
  {
   "cell_type": "code",
   "execution_count": null,
   "metadata": {},
   "outputs": [],
   "source": [
    "def plot(y_test, y_pred):\n",
    "    from matplotlib import pyplot\n",
    "\n",
    "    # plot predictions vs expected\n",
    "    pyplot.plot(y_test)\n",
    "    pyplot.plot(y_pred, color='red')\n",
    "    pyplot.show()"
   ]
  },
  {
   "cell_type": "code",
   "execution_count": null,
   "metadata": {},
   "outputs": [],
   "source": [
    "X_train, y_train, X_test, y_test = get_train_test_split(differences, ratings)\n",
    "y_pred = train_and_predict(X_train, y_train, X_test, y_test)\n",
    "plot(y_test, y_pred)"
   ]
  },
  {
   "cell_type": "code",
   "execution_count": null,
   "metadata": {},
   "outputs": [],
   "source": [
    "X_train, y_train, X_test, y_test = get_train_test_split(differences, ratings, .6)\n",
    "y_pred = train_and_predict(X_train, y_train, X_test, y_test)\n",
    "plot(y_test, y_pred)"
   ]
  },
  {
   "cell_type": "code",
   "execution_count": null,
   "metadata": {},
   "outputs": [],
   "source": [
    "X_train, y_train, X_test, y_test = get_train_test_split(differences, ratings, .5)\n",
    "y_pred = train_and_predict(X_train, y_train, X_test, y_test)\n",
    "plot(y_test, y_pred)"
   ]
  },
  {
   "cell_type": "code",
   "execution_count": null,
   "metadata": {},
   "outputs": [],
   "source": [
    "X_train, y_train, X_test, y_test = get_train_test_split(differences, ratings, .9)\n",
    "y_pred = train_and_predict(X_train, y_train, X_test, y_test)\n",
    "plot(y_test, y_pred)"
   ]
  },
  {
   "cell_type": "markdown",
   "metadata": {},
   "source": [
    "Changing the train/test split doesnt make much difference to the MSE... infact, making the train to .5 \n",
    "gives wrong predictions above 5! "
   ]
  },
  {
   "cell_type": "code",
   "execution_count": null,
   "metadata": {},
   "outputs": [],
   "source": [
    "np.array(list(zip(positives, negatives)))"
   ]
  },
  {
   "cell_type": "code",
   "execution_count": null,
   "metadata": {},
   "outputs": [],
   "source": [
    "# Use positive and negative word count as separate features\n",
    "X_train, y_train, X_test, y_test = get_train_test_split(np.array(list(zip(positives, negatives))), ratings, .8)\n",
    "y_pred = train_and_predict(X_train, y_train, X_test, y_test)\n",
    "plot(y_test, y_pred)"
   ]
  },
  {
   "cell_type": "code",
   "execution_count": null,
   "metadata": {},
   "outputs": [],
   "source": [
    "X_train, y_train, X_test, y_test = get_train_test_split(np.array(list(zip(positives, negatives))), ratings, .5)\n",
    "y_pred = train_and_predict(X_train, y_train, X_test, y_test)\n",
    "plot(y_test, y_pred)"
   ]
  },
  {
   "cell_type": "code",
   "execution_count": null,
   "metadata": {},
   "outputs": [],
   "source": [
    "X_train, y_train, X_test, y_test = get_train_test_split(np.array(list(zip(positives, negatives))), ratings, .6)\n",
    "y_pred = train_and_predict(X_train, y_train, X_test, y_test)\n",
    "plot(y_test, y_pred)"
   ]
  },
  {
   "cell_type": "code",
   "execution_count": null,
   "metadata": {},
   "outputs": [],
   "source": [
    "X_train, y_train, X_test, y_test = get_train_test_split(np.array(list(zip(positives, negatives))), ratings, .7)\n",
    "y_pred = train_and_predict(X_train, y_train, X_test, y_test)\n",
    "plot(y_test, y_pred)"
   ]
  },
  {
   "cell_type": "code",
   "execution_count": null,
   "metadata": {},
   "outputs": [],
   "source": [
    "X_train, y_train, X_test, y_test = get_train_test_split(np.array(list(zip(positives, negatives))), ratings, .9)\n",
    "y_pred = train_and_predict(X_train, y_train, X_test, y_test)\n",
    "plot(y_test, y_pred)"
   ]
  },
  {
   "cell_type": "code",
   "execution_count": null,
   "metadata": {},
   "outputs": [],
   "source": [
    "X_train, y_train, X_test, y_test = get_train_test_split(np.array(list(zip(positives, negatives))), ratings, .95)\n",
    "y_pred = train_and_predict(X_train, y_train, X_test, y_test)\n",
    "plot(y_test, y_pred)"
   ]
  },
  {
   "cell_type": "code",
   "execution_count": null,
   "metadata": {},
   "outputs": [],
   "source": []
  }
 ],
 "metadata": {
  "kernelspec": {
   "display_name": "Python 3",
   "language": "python",
   "name": "python3"
  },
  "language_info": {
   "codemirror_mode": {
    "name": "ipython",
    "version": 3
   },
   "file_extension": ".py",
   "mimetype": "text/x-python",
   "name": "python",
   "nbconvert_exporter": "python",
   "pygments_lexer": "ipython3",
   "version": "3.5.2"
  }
 },
 "nbformat": 4,
 "nbformat_minor": 2
}
